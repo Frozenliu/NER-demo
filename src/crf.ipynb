{
 "cells": [
  {
   "cell_type": "code",
   "execution_count": 1,
   "metadata": {},
   "outputs": [
    {
     "name": "stderr",
     "output_type": "stream",
     "text": [
      "/usr/local/lib/python3.6/site-packages/sklearn/cross_validation.py:41: DeprecationWarning: This module was deprecated in version 0.18 in favor of the model_selection module into which all the refactored classes and functions are moved. Also note that the interface of the new CV iterators are different from that of this module. This module will be removed in 0.20.\n",
      "  \"This module will be removed in 0.20.\", DeprecationWarning)\n",
      "/usr/local/lib/python3.6/site-packages/sklearn/grid_search.py:42: DeprecationWarning: This module was deprecated in version 0.18 in favor of the model_selection module into which all the refactored classes and functions are moved. This module will be removed in 0.20.\n",
      "  DeprecationWarning)\n"
     ]
    }
   ],
   "source": [
    "%matplotlib inline\n",
    "import matplotlib.pyplot as plt\n",
    "plt.style.use('ggplot')\n",
    "import sklearn_crfsuite\n",
    "from itertools import chain\n",
    "import nltk\n",
    "import sklearn\n",
    "import scipy.stats\n",
    "from sklearn.metrics import make_scorer\n",
    "from sklearn.cross_validation import cross_val_score\n",
    "from sklearn.grid_search import RandomizedSearchCV\n",
    "import re\n",
    "import sklearn_crfsuite\n",
    "from sklearn_crfsuite import scorers\n",
    "from sklearn_crfsuite import metrics"
   ]
  },
  {
   "cell_type": "code",
   "execution_count": 2,
   "metadata": {},
   "outputs": [
    {
     "name": "stdout",
     "output_type": "stream",
     "text": [
      "251768\n",
      "CPU times: user 6.89 s, sys: 541 ms, total: 7.43 s\n",
      "Wall time: 8.07 s\n"
     ]
    }
   ],
   "source": [
    "%%time\n",
    "def get_sents(path):\n",
    "    #'../data/train.txt';'../data/dev.txt'\n",
    "    sentences = []\n",
    "    sentence = []\n",
    "    cnt = 0\n",
    "    split_pattern = re.compile(r',|\\.|;|，|。|；') #.要转义，不然表示的是通配符\n",
    "    with open(path,'r',encoding = 'utf8') as f:\n",
    "        for line in f.readlines():#每行为一个字符和其tag，中间用tab隔开\n",
    "            line = line.strip().split('\\t')\n",
    "            if(not line or len(line) < 2): continue\n",
    "            if line[1] == 'OO': # fix\n",
    "                line[1] = 'O'\n",
    "            word = (line[0],line[1])\n",
    "            if split_pattern.match(word[0]):\n",
    "                sentence.append(word)\n",
    "                sentences.append(sentence.copy())\n",
    "                sentence.clear()\n",
    "            else:\n",
    "                sentence.append(word)\n",
    "        if(len(sentence)):\n",
    "            sentences.append(sentence.copy())\n",
    "            sentence.clear()\n",
    "    return sentences\n",
    "train_sentences = get_sents('../data/train.txt')\n",
    "print(len(train_sentences))"
   ]
  },
  {
   "cell_type": "code",
   "execution_count": 3,
   "metadata": {},
   "outputs": [
    {
     "data": {
      "text/plain": [
       "[('当', 'O'),\n",
       " ('希', 'O'),\n",
       " ('望', 'O'),\n",
       " ('工', 'O'),\n",
       " ('程', 'O'),\n",
       " ('救', 'O'),\n",
       " ('助', 'O'),\n",
       " ('的', 'O'),\n",
       " ('百', 'O'),\n",
       " ('万', 'O'),\n",
       " ('儿', 'O'),\n",
       " ('童', 'O'),\n",
       " ('成', 'O'),\n",
       " ('长', 'O'),\n",
       " ('起', 'O'),\n",
       " ('来', 'O'),\n",
       " ('，', 'O')]"
      ]
     },
     "execution_count": 3,
     "metadata": {},
     "output_type": "execute_result"
    }
   ],
   "source": [
    "train_sentences[0]"
   ]
  },
  {
   "cell_type": "code",
   "execution_count": 4,
   "metadata": {},
   "outputs": [
    {
     "data": {
      "text/plain": [
       "['O',\n",
       " 'O',\n",
       " 'O',\n",
       " 'O',\n",
       " 'O',\n",
       " 'O',\n",
       " 'O',\n",
       " 'O',\n",
       " 'O',\n",
       " 'O',\n",
       " 'O',\n",
       " 'O',\n",
       " 'O',\n",
       " 'O',\n",
       " 'O',\n",
       " 'O',\n",
       " 'O']"
      ]
     },
     "execution_count": 4,
     "metadata": {},
     "output_type": "execute_result"
    }
   ],
   "source": [
    "[label for token,label in train_sentences[0]]"
   ]
  },
  {
   "cell_type": "code",
   "execution_count": 5,
   "metadata": {},
   "outputs": [
    {
     "name": "stdout",
     "output_type": "stream",
     "text": [
      "CPU times: user 243 ms, sys: 24.4 ms, total: 268 ms\n",
      "Wall time: 271 ms\n"
     ]
    }
   ],
   "source": [
    "%%time\n",
    "train_sents = train_sentences\n",
    "test_sents = get_sents('../data/dev.txt')"
   ]
  },
  {
   "cell_type": "code",
   "execution_count": 6,
   "metadata": {},
   "outputs": [],
   "source": [
    "def word2features(sent, i):\n",
    "    word = sent[i][0]\n",
    "    postag = sent[i][1]\n",
    "\n",
    "    features = {\n",
    "        'bias': 1.0,\n",
    "        'word.lower()': word.lower(),\n",
    "#         'word[-3:]': word[-3:],\n",
    "#         'word[-2:]': word[-2:],\n",
    "        'word.isupper()': word.isupper(),\n",
    "        'word.istitle()': word.istitle(),\n",
    "        'word.isdigit()': word.isdigit(),\n",
    "#         'postag': postag, #原始数据中没有词性标记\n",
    "#         'postag[:2]': postag[:2],\n",
    "    }\n",
    "    if i > 0:\n",
    "        word1 = sent[i-1][0]\n",
    "#         postag1 = sent[i-1][1]\n",
    "        features.update({\n",
    "            '-1:word.lower()': word1.lower(),\n",
    "            '-1:word.istitle()': word1.istitle(),\n",
    "            '-1:word.isupper()': word1.isupper(),\n",
    "#             '-1:postag': postag1,\n",
    "#             '-1:postag[:2]': postag1[:2],\n",
    "        })\n",
    "    else:\n",
    "        features['BOS'] = True\n",
    "\n",
    "    if i < len(sent)-1:\n",
    "        word1 = sent[i+1][0]\n",
    "#         postag1 = sent[i+1][1]\n",
    "        features.update({\n",
    "            '+1:word.lower()': word1.lower(),\n",
    "            '+1:word.istitle()': word1.istitle(),\n",
    "            '+1:word.isupper()': word1.isupper(),\n",
    "#             '+1:postag': postag1,\n",
    "#             '+1:postag[:2]': postag1[:2],\n",
    "        })\n",
    "    else:\n",
    "        features['EOS'] = True\n",
    "\n",
    "    return features\n",
    "\n",
    "\n",
    "def sent2features(sent): #一个句子对应了一个序列\n",
    "    return [word2features(sent, i) for i in range(len(sent))]\n",
    "\n",
    "def sent2labels(sent):\n",
    "    return [label for token,label in sent]\n",
    "#     return [label for token, postag, label in sent]\n",
    "\n",
    "def sent2tokens(sent):\n",
    "    return [token for token,label in sent]"
   ]
  },
  {
   "cell_type": "code",
   "execution_count": 7,
   "metadata": {},
   "outputs": [
    {
     "data": {
      "text/plain": [
       "{'bias': 1.0,\n",
       " 'word.lower()': '当',\n",
       " 'word.isupper()': False,\n",
       " 'word.istitle()': False,\n",
       " 'word.isdigit()': False,\n",
       " 'BOS': True,\n",
       " '+1:word.lower()': '希',\n",
       " '+1:word.istitle()': False,\n",
       " '+1:word.isupper()': False}"
      ]
     },
     "execution_count": 7,
     "metadata": {},
     "output_type": "execute_result"
    }
   ],
   "source": [
    "sent2features(train_sents[0])[0] #注意中文和英文/spanish的区别，一是需要切词，二是word[-2:]这种是没意义的"
   ]
  },
  {
   "cell_type": "code",
   "execution_count": 8,
   "metadata": {},
   "outputs": [
    {
     "name": "stdout",
     "output_type": "stream",
     "text": [
      "CPU times: user 14.5 s, sys: 2.54 s, total: 17 s\n",
      "Wall time: 18.2 s\n"
     ]
    }
   ],
   "source": [
    "%%time\n",
    "X_train = [sent2features(s) for s in train_sents]\n",
    "y_train = [sent2labels(s) for s in train_sents]\n",
    "\n",
    "X_test = [sent2features(s) for s in test_sents]\n",
    "y_test = [sent2labels(s) for s in test_sents]"
   ]
  },
  {
   "cell_type": "code",
   "execution_count": 9,
   "metadata": {},
   "outputs": [
    {
     "name": "stdout",
     "output_type": "stream",
     "text": [
      "CPU times: user 5min 1s, sys: 11 s, total: 5min 12s\n",
      "Wall time: 5min 25s\n"
     ]
    }
   ],
   "source": [
    "%%time\n",
    "crf = sklearn_crfsuite.CRF(\n",
    "    algorithm='lbfgs',\n",
    "    c1=0.1,\n",
    "    c2=0.1,\n",
    "    max_iterations=100,\n",
    "    all_possible_transitions=True\n",
    ")\n",
    "crf.fit(X_train, y_train)"
   ]
  },
  {
   "cell_type": "code",
   "execution_count": 10,
   "metadata": {},
   "outputs": [
    {
     "data": {
      "text/plain": [
       "['B-LOC', 'I-LOC', 'B-ORG', 'I-ORG', 'B-PER', 'I-PER']"
      ]
     },
     "execution_count": 10,
     "metadata": {},
     "output_type": "execute_result"
    }
   ],
   "source": [
    "labels = list(crf.classes_)\n",
    "labels.remove('O')\n",
    "labels"
   ]
  },
  {
   "cell_type": "code",
   "execution_count": 11,
   "metadata": {},
   "outputs": [
    {
     "data": {
      "text/plain": [
       "0.7542816896014515"
      ]
     },
     "execution_count": 11,
     "metadata": {},
     "output_type": "execute_result"
    }
   ],
   "source": [
    "y_pred = crf.predict(X_test)\n",
    "#输入要求是二维list\n",
    "metrics.flat_f1_score(y_test, y_pred,\n",
    "                      average='weighted', labels=labels)"
   ]
  },
  {
   "cell_type": "code",
   "execution_count": 12,
   "metadata": {},
   "outputs": [
    {
     "data": {
      "text/plain": [
       "10754"
      ]
     },
     "execution_count": 12,
     "metadata": {},
     "output_type": "execute_result"
    }
   ],
   "source": [
    "len(y_pred)"
   ]
  },
  {
   "cell_type": "code",
   "execution_count": 13,
   "metadata": {},
   "outputs": [
    {
     "data": {
      "text/plain": [
       "[['B-ORG',\n",
       "  'I-ORG',\n",
       "  'I-ORG',\n",
       "  'I-ORG',\n",
       "  'I-ORG',\n",
       "  'I-ORG',\n",
       "  'I-ORG',\n",
       "  'I-ORG',\n",
       "  'I-ORG',\n",
       "  'I-ORG',\n",
       "  'I-ORG',\n",
       "  'I-ORG',\n",
       "  'I-ORG',\n",
       "  'O',\n",
       "  'O',\n",
       "  'O',\n",
       "  'O',\n",
       "  'O',\n",
       "  'O',\n",
       "  'O',\n",
       "  'O',\n",
       "  'O',\n",
       "  'O',\n",
       "  'O',\n",
       "  'O',\n",
       "  'O',\n",
       "  'O',\n",
       "  'B-LOC',\n",
       "  'I-LOC',\n",
       "  'O',\n",
       "  'O',\n",
       "  'O',\n",
       "  'O',\n",
       "  'O',\n",
       "  'O',\n",
       "  'O',\n",
       "  'O',\n",
       "  'O',\n",
       "  'O',\n",
       "  'O',\n",
       "  'O',\n",
       "  'O',\n",
       "  'O',\n",
       "  'O',\n",
       "  'O',\n",
       "  'O',\n",
       "  'O',\n",
       "  'O',\n",
       "  'O'],\n",
       " ['B-ORG',\n",
       "  'I-ORG',\n",
       "  'I-ORG',\n",
       "  'I-ORG',\n",
       "  'I-ORG',\n",
       "  'I-ORG',\n",
       "  'I-ORG',\n",
       "  'I-ORG',\n",
       "  'I-ORG',\n",
       "  'I-ORG',\n",
       "  'O',\n",
       "  'O',\n",
       "  'O',\n",
       "  'O',\n",
       "  'O',\n",
       "  'O',\n",
       "  'O',\n",
       "  'O',\n",
       "  'O',\n",
       "  'O',\n",
       "  'O',\n",
       "  'O']]"
      ]
     },
     "execution_count": 13,
     "metadata": {},
     "output_type": "execute_result"
    }
   ],
   "source": [
    "y_pred[:2]"
   ]
  },
  {
   "cell_type": "code",
   "execution_count": 14,
   "metadata": {},
   "outputs": [
    {
     "data": {
      "text/plain": [
       "10754"
      ]
     },
     "execution_count": 14,
     "metadata": {},
     "output_type": "execute_result"
    }
   ],
   "source": [
    "len(y_test)"
   ]
  },
  {
   "cell_type": "code",
   "execution_count": 15,
   "metadata": {},
   "outputs": [
    {
     "name": "stdout",
     "output_type": "stream",
     "text": [
      "             precision    recall  f1-score   support\n",
      "\n",
      "      B-LOC      0.887     0.724     0.797      2877\n",
      "      I-LOC      0.830     0.699     0.759      4394\n",
      "      B-ORG      0.832     0.505     0.628      1331\n",
      "      I-ORG      0.845     0.579     0.687      5670\n",
      "      B-PER      0.927     0.642     0.758      1973\n",
      "      I-PER      0.818     0.901     0.857      3851\n",
      "\n",
      "avg / total      0.850     0.689     0.754     20096\n",
      "\n"
     ]
    }
   ],
   "source": [
    "# group B and I results\n",
    "sorted_labels = sorted(\n",
    "    labels,\n",
    "    key=lambda name: (name[1:], name[0])\n",
    ")\n",
    "print(metrics.flat_classification_report(\n",
    "    y_test, y_pred, labels=sorted_labels, digits=3\n",
    "))"
   ]
  },
  {
   "cell_type": "code",
   "execution_count": 16,
   "metadata": {},
   "outputs": [
    {
     "name": "stdout",
     "output_type": "stream",
     "text": [
      "             precision    recall  f1-score   support\n",
      "\n",
      "        ORG     0.7649    0.4643    0.5778      1331\n",
      "        PER     0.8105    0.5636    0.6649      1973\n",
      "        LOC     0.7969    0.6628    0.7237      2877\n",
      "\n",
      "avg / total     0.7943    0.5884    0.6735      6181\n",
      "\n"
     ]
    }
   ],
   "source": [
    "from seqeval.metrics import classification_report\n",
    "from functools import reduce\n",
    "y_test = reduce(lambda x,y : x + y, y_test)\n",
    "y_pred = reduce(lambda x,y : x + y, y_pred)\n",
    "print(classification_report(y_test,y_pred,digits=4))"
   ]
  },
  {
   "cell_type": "code",
   "execution_count": 17,
   "metadata": {},
   "outputs": [
    {
     "name": "stdout",
     "output_type": "stream",
     "text": [
      "Top likely transitions:\n",
      "B-PER  -> I-PER   4.708168\n",
      "B-LOC  -> I-LOC   3.938230\n",
      "I-ORG  -> I-ORG   3.917188\n",
      "B-ORG  -> I-ORG   3.657933\n",
      "O      -> O       3.648308\n",
      "I-PER  -> I-PER   3.501100\n",
      "I-LOC  -> I-LOC   3.035867\n",
      "O      -> B-LOC   0.233900\n",
      "O      -> B-ORG   0.036867\n",
      "I-LOC  -> O       0.033424\n",
      "B-LOC  -> B-LOC   0.024545\n",
      "I-PER  -> O       -0.192546\n",
      "O      -> B-PER   -0.692180\n",
      "I-ORG  -> O       -0.696039\n",
      "I-LOC  -> B-LOC   -0.860370\n",
      "B-LOC  -> O       -0.891950\n",
      "B-PER  -> O       -1.157294\n",
      "I-PER  -> B-PER   -2.262832\n",
      "B-ORG  -> B-ORG   -2.305008\n",
      "B-PER  -> B-PER   -2.675551\n",
      "\n",
      "Top unlikely transitions:\n",
      "I-LOC  -> B-ORG   -3.894457\n",
      "I-PER  -> I-LOC   -3.948705\n",
      "O      -> I-LOC   -3.991779\n",
      "I-LOC  -> B-PER   -4.272581\n",
      "B-LOC  -> B-ORG   -4.322920\n",
      "I-ORG  -> I-PER   -4.992102\n",
      "B-ORG  -> B-LOC   -5.182726\n",
      "B-PER  -> B-ORG   -5.300838\n",
      "B-ORG  -> I-PER   -5.524905\n",
      "B-ORG  -> B-PER   -5.533414\n",
      "B-PER  -> B-LOC   -5.567242\n",
      "B-ORG  -> I-LOC   -6.002072\n",
      "B-PER  -> I-ORG   -6.166633\n",
      "I-PER  -> I-ORG   -6.215160\n",
      "B-LOC  -> I-PER   -6.392381\n",
      "O      -> I-ORG   -6.861251\n",
      "B-LOC  -> B-PER   -6.866364\n",
      "B-PER  -> I-LOC   -7.588538\n",
      "B-LOC  -> I-ORG   -7.729903\n",
      "I-LOC  -> I-ORG   -8.067152\n"
     ]
    }
   ],
   "source": [
    "from collections import Counter\n",
    "\n",
    "def print_transitions(trans_features):\n",
    "    for (label_from, label_to), weight in trans_features:\n",
    "        print(\"%-6s -> %-7s %0.6f\" % (label_from, label_to, weight))\n",
    "\n",
    "print(\"Top likely transitions:\")\n",
    "print_transitions(Counter(crf.transition_features_).most_common(20))\n",
    "\n",
    "print(\"\\nTop unlikely transitions:\")\n",
    "print_transitions(Counter(crf.transition_features_).most_common()[-20:])"
   ]
  },
  {
   "cell_type": "code",
   "execution_count": 18,
   "metadata": {},
   "outputs": [
    {
     "name": "stdout",
     "output_type": "stream",
     "text": [
      "Top positive:\n",
      "10.414564 O        word.lower():、\n",
      "9.880271 B-PER    word.lower():寇\n",
      "9.001572 I-PER    word.lower():禺\n",
      "8.232928 B-PER    word.lower():薛\n",
      "8.101207 O        word.lower():：\n",
      "8.098005 B-PER    word.lower():袁\n",
      "8.025911 I-LOC    word.lower():圳\n",
      "7.675100 O        word.lower():是\n",
      "7.607252 O        word.lower():到\n",
      "7.533269 B-PER    word.lower():赵\n",
      "7.517758 B-PER    word.lower():崔\n",
      "7.473806 O        word.lower():讯\n",
      "7.407550 B-PER    word.lower():褚\n",
      "7.330991 B-PER    word.lower():靳\n",
      "7.010629 O        word.lower():说\n",
      "6.885585 O        +1:word.lower():锅\n",
      "6.765853 O        EOS\n",
      "6.760879 O        word.lower():等\n",
      "6.759627 B-PER    word.lower():邱\n",
      "6.694659 O        word.lower():将\n",
      "6.676578 O        word.lower():在\n",
      "6.437327 B-LOC    word.lower():淮\n",
      "6.381003 B-PER    word.lower():翟\n",
      "6.319936 B-LOC    -1:word.lower():℃\n",
      "6.194711 O        word.lower():／\n",
      "6.134503 O        word.lower():还\n",
      "6.083107 B-PER    word.lower():尧\n",
      "6.072706 B-PER    word.lower():俞\n",
      "6.062680 O        word.lower():副\n",
      "6.024941 O        word.lower():与\n",
      "\n",
      "Top negative:\n",
      "-4.561759 I-LOC    word.lower():方\n",
      "-4.577137 O        word.lower():冈\n",
      "-4.578757 I-LOC    -1:word.lower():村\n",
      "-4.585543 B-LOC    +1:word.lower():铁\n",
      "-4.587190 O        word.lower():宁\n",
      "-4.595797 O        word.lower():徐\n",
      "-4.610635 O        word.lower():曼\n",
      "-4.627763 O        word.lower():耶\n",
      "-4.665226 I-ORG    word.lower():成\n",
      "-4.706912 I-PER    word.lower():院\n",
      "-4.709994 O        word.lower():朱\n",
      "-4.718728 O        word.lower():澳\n",
      "-4.781246 I-ORG    -1:word.lower():队\n",
      "-4.794609 O        word.lower():陕\n",
      "-4.795668 B-LOC    word.lower():元\n",
      "-4.873551 O        word.lower():韩\n",
      "-4.916460 O        word.lower():吕\n",
      "-4.998747 I-LOC    word.lower():社\n",
      "-5.140219 I-PER    word.lower():主\n",
      "-5.370959 I-PER    word.lower():摄\n",
      "-5.738226 O        word.lower():李\n",
      "-5.783568 O        word.lower():郭\n",
      "-5.808660 B-LOC    +1:word.lower():术\n",
      "-5.822168 O        word.lower():潘\n",
      "-5.853970 B-LOC    +1:word.lower():书\n",
      "-6.109665 O        word.lower():曹\n",
      "-6.182857 O        word.lower():吴\n",
      "-6.228099 I-PER    +1:word.lower():牌\n",
      "-6.327584 I-ORG    BOS\n",
      "-6.610976 O        word.lower():刘\n"
     ]
    }
   ],
   "source": [
    "def print_state_features(state_features):\n",
    "    for (attr, label), weight in state_features:\n",
    "        print(\"%0.6f %-8s %s\" % (weight, label, attr))\n",
    "\n",
    "print(\"Top positive:\")\n",
    "print_state_features(Counter(crf.state_features_).most_common(30))\n",
    "\n",
    "print(\"\\nTop negative:\")\n",
    "print_state_features(Counter(crf.state_features_).most_common()[-30:])\n",
    "#结果挺合理，寇确实是姓比较多\n",
    "#禺确实是名比较多"
   ]
  },
  {
   "cell_type": "code",
   "execution_count": 19,
   "metadata": {},
   "outputs": [],
   "source": [
    "import re\n",
    "from pyhanlp import *\n",
    "\n",
    "def get_sents(path):\n",
    "    #'../data/train.txt';'../data/dev.txt'\n",
    "    sentences = []\n",
    "    sentence = []\n",
    "    cnt = 0\n",
    "    split_pattern = re.compile(r',|\\.|;|，|。|；|\\?|\\!|\\.\\.\\.\\.\\.\\.|……')\n",
    "    with open(path,'r',encoding = 'utf8') as f:\n",
    "        for line in f.readlines():#每行为一个字符和其tag，中间用tab隔开\n",
    "            line = line.strip().split('\\t')\n",
    "            if(not line or len(line) < 2): continue\n",
    "            if line[1] == 'OO':\n",
    "                line[1] = 'O'\n",
    "            word_unit = [line[0],line[1]]\n",
    "            if split_pattern.match(word_unit[0]):\n",
    "                sentence.append(word_unit)\n",
    "                sent = ''.join((word_unit[0] for word_unit in sentence))\n",
    "                nature_list = []\n",
    "                for term in HanLP.segment(sent):\n",
    "                    for i in range(len(term.word)):# 分词\n",
    "                        nature = '{}'.format(term.nature)\n",
    "                        nature_list.append(nature)\n",
    "                for idx,word_unit in enumerate(sentence):\n",
    "                    word_unit.insert(1,nature_list[idx]) # insert损失一些性能\n",
    "                sentences.append(sentence.copy())\n",
    "                sentence.clear()\n",
    "            else:\n",
    "                sentence.append(word_unit)\n",
    "        if(len(sentence)):\n",
    "            sent = ''.join((word_unit[0] for word_unit in sentence))\n",
    "            nature_list = []\n",
    "            for term in HanLP.segment(sent):\n",
    "                for i in range(len(term.word)):  # 分词\n",
    "                    nature = '{}'.format(term.nature)\n",
    "                    nature_list.append(nature)\n",
    "            for idx, word_unit in enumerate(sentence):\n",
    "                word_unit.insert(1, nature_list[idx])  # insert损失一些性能\n",
    "            sentences.append(sentence.copy())\n",
    "            sentence.clear()\n",
    "    return sentences"
   ]
  },
  {
   "cell_type": "code",
   "execution_count": 20,
   "metadata": {},
   "outputs": [
    {
     "name": "stdout",
     "output_type": "stream",
     "text": [
      "251768\n",
      "CPU times: user 4min 18s, sys: 11.2 s, total: 4min 29s\n",
      "Wall time: 4min 35s\n"
     ]
    }
   ],
   "source": [
    "%%time\n",
    "train_sentences = get_sents('../data/train.txt')\n",
    "print(len(train_sentences))"
   ]
  },
  {
   "cell_type": "code",
   "execution_count": 21,
   "metadata": {},
   "outputs": [
    {
     "name": "stdout",
     "output_type": "stream",
     "text": [
      "[['当', 'p', 'O'], ['希', 'nz', 'O'], ['望', 'nz', 'O'], ['工', 'nz', 'O'], ['程', 'nz', 'O'], ['救', 'vn', 'O'], ['助', 'vn', 'O'], ['的', 'ude1', 'O'], ['百', 'm', 'O'], ['万', 'm', 'O'], ['儿', 'n', 'O'], ['童', 'n', 'O'], ['成', 'vi', 'O'], ['长', 'vi', 'O'], ['起', 'vf', 'O'], ['来', 'vf', 'O'], ['，', 'w', 'O']]\n"
     ]
    }
   ],
   "source": [
    "print(train_sentences[0])"
   ]
  },
  {
   "cell_type": "code",
   "execution_count": 22,
   "metadata": {},
   "outputs": [
    {
     "name": "stdout",
     "output_type": "stream",
     "text": [
      "CPU times: user 10.6 s, sys: 594 ms, total: 11.2 s\n",
      "Wall time: 11.2 s\n"
     ]
    }
   ],
   "source": [
    "%%time\n",
    "train_sents = train_sentences\n",
    "test_sents = get_sents('../data/dev.txt')"
   ]
  },
  {
   "cell_type": "code",
   "execution_count": 23,
   "metadata": {},
   "outputs": [],
   "source": [
    "%matplotlib inline\n",
    "import matplotlib.pyplot as plt\n",
    "plt.style.use('ggplot')\n",
    "import sklearn_crfsuite\n",
    "from itertools import chain\n",
    "import sklearn\n",
    "import scipy.stats\n",
    "from sklearn.metrics import make_scorer\n",
    "from sklearn.cross_validation import cross_val_score\n",
    "from sklearn.grid_search import RandomizedSearchCV\n",
    "import sklearn_crfsuite\n",
    "from sklearn_crfsuite import scorers\n",
    "from sklearn_crfsuite import metrics"
   ]
  },
  {
   "cell_type": "code",
   "execution_count": 24,
   "metadata": {},
   "outputs": [],
   "source": [
    "def word2features(sent, i):\n",
    "    word = sent[i][0]\n",
    "    postag = sent[i][1]\n",
    "\n",
    "    features = {\n",
    "        'bias': 1.0,\n",
    "        'word.lower()': word.lower(),\n",
    "        'word.isupper()': word.isupper(), #对于中文数据集来说，这两条用处不大\n",
    "        'word.isdigit()': word.isdigit(),\n",
    "        'postag': postag, \n",
    "#         'postag[:2]': postag[:2], #感觉这条特征没意义\n",
    "    }\n",
    "    if i > 0:\n",
    "        word1 = sent[i-1][0]\n",
    "        postag1 = sent[i-1][1]\n",
    "        features.update({\n",
    "            '-1:word.lower()': word1.lower(),\n",
    "            '-1:word.isupper()': word1.isupper(),\n",
    "             '-1:word.isdigit()': word.isdigit(),\n",
    "            '-1:postag': postag1,\n",
    "#             '-1:postag[:2]': postag1[:2],\n",
    "        })\n",
    "    else:\n",
    "        features['BOS'] = True\n",
    "\n",
    "    if i < len(sent)-1:\n",
    "        word1 = sent[i+1][0]\n",
    "        postag1 = sent[i+1][1]\n",
    "        features.update({\n",
    "            '+1:word.lower()': word1.lower(),\n",
    "            '+1:word.isupper()': word1.isupper(),\n",
    "            '+1:postag': postag1,\n",
    "#             '+1:postag[:2]': postag1[:2],\n",
    "        })\n",
    "    else:\n",
    "        features['EOS'] = True\n",
    "\n",
    "    return features\n",
    "\n",
    "\n",
    "def sent2features(sent): #一个句子对应了一个序列\n",
    "    return [word2features(sent, i) for i in range(len(sent))]\n",
    "\n",
    "def sent2labels(sent):\n",
    "#     return [label for token,label in sent]\n",
    "    return [label for token, postag, label in sent]\n",
    "\n",
    "def sent2tokens(sent):\n",
    "    return [token for token,label in sent]"
   ]
  },
  {
   "cell_type": "code",
   "execution_count": 25,
   "metadata": {},
   "outputs": [
    {
     "data": {
      "text/plain": [
       "{'bias': 1.0,\n",
       " 'word.lower()': '当',\n",
       " 'word.isupper()': False,\n",
       " 'word.isdigit()': False,\n",
       " 'postag': 'p',\n",
       " 'BOS': True,\n",
       " '+1:word.lower()': '希',\n",
       " '+1:word.isupper()': False,\n",
       " '+1:postag': 'nz'}"
      ]
     },
     "execution_count": 25,
     "metadata": {},
     "output_type": "execute_result"
    }
   ],
   "source": [
    "sent2features(train_sents[0])[0] #注意中文和英文/spanish的区别，一是需要切词，二是word[-2:]这种是没意义的"
   ]
  },
  {
   "cell_type": "code",
   "execution_count": 26,
   "metadata": {},
   "outputs": [
    {
     "name": "stdout",
     "output_type": "stream",
     "text": [
      "CPU times: user 16.3 s, sys: 11.3 s, total: 27.6 s\n",
      "Wall time: 38.2 s\n"
     ]
    }
   ],
   "source": [
    "%%time\n",
    "X_train = [sent2features(s) for s in train_sents]\n",
    "y_train = [sent2labels(s) for s in train_sents]\n",
    "\n",
    "X_test = [sent2features(s) for s in test_sents]\n",
    "y_test = [sent2labels(s) for s in test_sents]"
   ]
  },
  {
   "cell_type": "code",
   "execution_count": 27,
   "metadata": {},
   "outputs": [
    {
     "name": "stdout",
     "output_type": "stream",
     "text": [
      "CPU times: user 5min 7s, sys: 14.1 s, total: 5min 22s\n",
      "Wall time: 5min 30s\n"
     ]
    }
   ],
   "source": [
    "%%time\n",
    "crf = sklearn_crfsuite.CRF(\n",
    "    algorithm='lbfgs',\n",
    "    c1=0.1,\n",
    "    c2=0.1,\n",
    "    max_iterations=100,\n",
    "    all_possible_transitions=True\n",
    ")\n",
    "crf.fit(X_train, y_train)"
   ]
  },
  {
   "cell_type": "code",
   "execution_count": 28,
   "metadata": {},
   "outputs": [
    {
     "data": {
      "text/plain": [
       "['B-LOC', 'I-LOC', 'B-ORG', 'I-ORG', 'B-PER', 'I-PER']"
      ]
     },
     "execution_count": 28,
     "metadata": {},
     "output_type": "execute_result"
    }
   ],
   "source": [
    "labels = list(crf.classes_)\n",
    "labels.remove('O')\n",
    "labels"
   ]
  },
  {
   "cell_type": "code",
   "execution_count": 29,
   "metadata": {},
   "outputs": [
    {
     "data": {
      "text/plain": [
       "0.7943372374877178"
      ]
     },
     "execution_count": 29,
     "metadata": {},
     "output_type": "execute_result"
    }
   ],
   "source": [
    "y_pred = crf.predict(X_test)\n",
    "#输入要求是二维list\n",
    "metrics.flat_f1_score(y_test, y_pred,\n",
    "                      average='weighted', labels=labels)"
   ]
  },
  {
   "cell_type": "code",
   "execution_count": 30,
   "metadata": {},
   "outputs": [
    {
     "data": {
      "text/plain": [
       "[['B-ORG',\n",
       "  'I-ORG',\n",
       "  'I-ORG',\n",
       "  'I-ORG',\n",
       "  'I-ORG',\n",
       "  'I-ORG',\n",
       "  'I-ORG',\n",
       "  'I-ORG',\n",
       "  'I-ORG',\n",
       "  'I-ORG',\n",
       "  'I-ORG',\n",
       "  'I-ORG',\n",
       "  'I-ORG',\n",
       "  'O',\n",
       "  'O',\n",
       "  'O',\n",
       "  'O',\n",
       "  'O',\n",
       "  'O',\n",
       "  'O',\n",
       "  'O',\n",
       "  'O',\n",
       "  'O',\n",
       "  'O',\n",
       "  'O',\n",
       "  'O',\n",
       "  'O',\n",
       "  'B-ORG',\n",
       "  'I-ORG',\n",
       "  'I-ORG',\n",
       "  'I-ORG',\n",
       "  'I-ORG',\n",
       "  'O',\n",
       "  'O',\n",
       "  'O',\n",
       "  'O',\n",
       "  'O',\n",
       "  'O',\n",
       "  'O',\n",
       "  'O',\n",
       "  'O',\n",
       "  'O',\n",
       "  'O',\n",
       "  'O',\n",
       "  'O',\n",
       "  'O',\n",
       "  'O',\n",
       "  'O',\n",
       "  'O'],\n",
       " ['B-ORG',\n",
       "  'I-ORG',\n",
       "  'I-ORG',\n",
       "  'I-ORG',\n",
       "  'I-ORG',\n",
       "  'I-ORG',\n",
       "  'I-ORG',\n",
       "  'I-ORG',\n",
       "  'I-ORG',\n",
       "  'I-ORG',\n",
       "  'O',\n",
       "  'O',\n",
       "  'O',\n",
       "  'O',\n",
       "  'O',\n",
       "  'O',\n",
       "  'O',\n",
       "  'O',\n",
       "  'O',\n",
       "  'O',\n",
       "  'O',\n",
       "  'O']]"
      ]
     },
     "execution_count": 30,
     "metadata": {},
     "output_type": "execute_result"
    }
   ],
   "source": [
    "y_pred[:2]"
   ]
  },
  {
   "cell_type": "code",
   "execution_count": 31,
   "metadata": {},
   "outputs": [
    {
     "name": "stdout",
     "output_type": "stream",
     "text": [
      "             precision    recall  f1-score   support\n",
      "\n",
      "      B-LOC      0.921     0.754     0.829      2877\n",
      "      I-LOC      0.883     0.734     0.801      4394\n",
      "      B-ORG      0.889     0.566     0.691      1331\n",
      "      I-ORG      0.884     0.653     0.751      5670\n",
      "      B-PER      0.947     0.646     0.768      1973\n",
      "      I-PER      0.836     0.913     0.873      3851\n",
      "\n",
      "avg / total      0.886     0.729     0.794     20096\n",
      "\n"
     ]
    }
   ],
   "source": [
    "# group B and I results\n",
    "sorted_labels = sorted(\n",
    "    labels,\n",
    "    key=lambda name: (name[1:], name[0])\n",
    ")\n",
    "print(metrics.flat_classification_report(\n",
    "    y_test, y_pred, labels=sorted_labels, digits=3\n",
    "))"
   ]
  },
  {
   "cell_type": "code",
   "execution_count": 32,
   "metadata": {},
   "outputs": [
    {
     "name": "stdout",
     "output_type": "stream",
     "text": [
      "             precision    recall  f1-score   support\n",
      "\n",
      "        ORG     0.8406    0.5349    0.6538      1331\n",
      "        PER     0.8376    0.5753    0.6821      1973\n",
      "        LOC     0.8457    0.7070    0.7702      2877\n",
      "\n",
      "avg / total     0.8420    0.6279    0.7170      6181\n",
      "\n"
     ]
    }
   ],
   "source": [
    "from seqeval.metrics import classification_report\n",
    "from functools import reduce\n",
    "y_test = reduce(lambda x,y : x + y, y_test)\n",
    "y_pred = reduce(lambda x,y : x + y, y_pred)\n",
    "print(classification_report(y_test,y_pred,digits=4))\n",
    "# 加了词性，f1-score 从0.754->0.794\n",
    "# 0.6735 ->0.7170"
   ]
  },
  {
   "cell_type": "code",
   "execution_count": 33,
   "metadata": {},
   "outputs": [
    {
     "name": "stdout",
     "output_type": "stream",
     "text": [
      "Top likely transitions:\n",
      "I-ORG  -> I-ORG   3.794039\n",
      "B-ORG  -> I-ORG   3.626199\n",
      "I-LOC  -> I-LOC   3.303950\n",
      "I-PER  -> I-PER   3.264526\n",
      "B-LOC  -> I-LOC   3.166419\n",
      "O      -> O       2.766636\n",
      "B-PER  -> I-PER   2.664200\n",
      "I-LOC  -> B-LOC   1.801765\n",
      "I-PER  -> B-PER   1.744497\n",
      "B-LOC  -> B-LOC   0.878877\n",
      "I-PER  -> O       0.724236\n",
      "O      -> B-PER   0.550293\n",
      "O      -> B-LOC   0.227626\n",
      "O      -> B-ORG   0.164311\n",
      "I-LOC  -> O       -0.114932\n",
      "B-ORG  -> B-ORG   -0.479315\n",
      "I-PER  -> B-LOC   -0.853423\n",
      "I-ORG  -> B-LOC   -0.896773\n",
      "I-ORG  -> O       -1.071338\n",
      "I-LOC  -> B-ORG   -1.266796\n",
      "\n",
      "Top unlikely transitions:\n",
      "B-LOC  -> B-ORG   -3.233270\n",
      "B-ORG  -> O       -3.572566\n",
      "I-ORG  -> I-LOC   -3.770497\n",
      "B-ORG  -> B-LOC   -3.922222\n",
      "B-PER  -> B-LOC   -4.460793\n",
      "B-PER  -> B-ORG   -4.512799\n",
      "I-PER  -> I-ORG   -4.718796\n",
      "B-LOC  -> B-PER   -4.797871\n",
      "O      -> I-LOC   -4.988522\n",
      "I-LOC  -> I-PER   -5.016383\n",
      "B-ORG  -> I-LOC   -5.906916\n",
      "B-PER  -> I-ORG   -5.977107\n",
      "O      -> I-PER   -6.174754\n",
      "B-ORG  -> I-PER   -6.492344\n",
      "B-PER  -> I-LOC   -6.516555\n",
      "I-ORG  -> I-PER   -6.811728\n",
      "I-LOC  -> I-ORG   -7.282468\n",
      "O      -> I-ORG   -7.616074\n",
      "B-LOC  -> I-ORG   -8.016568\n",
      "B-LOC  -> I-PER   -8.211961\n"
     ]
    }
   ],
   "source": [
    "from collections import Counter\n",
    "\n",
    "def print_transitions(trans_features):\n",
    "    for (label_from, label_to), weight in trans_features:\n",
    "        print(\"%-6s -> %-7s %0.6f\" % (label_from, label_to, weight))\n",
    "\n",
    "print(\"Top likely transitions:\")\n",
    "print_transitions(Counter(crf.transition_features_).most_common(20))\n",
    "\n",
    "print(\"\\nTop unlikely transitions:\")\n",
    "print_transitions(Counter(crf.transition_features_).most_common()[-20:])"
   ]
  },
  {
   "cell_type": "code",
   "execution_count": 34,
   "metadata": {},
   "outputs": [
    {
     "name": "stdout",
     "output_type": "stream",
     "text": [
      "Top positive:\n",
      "7.581093 B-PER    word.lower():赵\n",
      "7.119993 B-PER    word.lower():袁\n",
      "6.996876 B-PER    word.lower():寇\n",
      "6.991663 B-PER    word.lower():薛\n",
      "6.683290 B-PER    word.lower():滕\n",
      "6.383685 I-PER    word.lower():赵\n",
      "6.107862 O        word.lower():在\n",
      "5.971466 O        word.lower():到\n",
      "5.888545 O        word.lower():、\n",
      "5.887745 O        word.lower():杯\n",
      "5.825564 B-PER    word.lower():靳\n",
      "5.700890 O        postag:ude1\n",
      "5.630110 B-PER    -1:word.lower():号\n",
      "5.501566 B-PER    word.lower():崔\n",
      "5.499171 B-LOC    word.lower():淮\n",
      "5.461032 O        word.lower():说\n",
      "5.387137 O        word.lower():对\n",
      "5.353412 B-PER    +1:word.lower():奶\n",
      "5.325446 I-PER    -1:word.lower():扈\n",
      "5.300552 O        EOS\n",
      "5.292643 I-PER    word.lower():冯\n",
      "5.162670 B-LOC    word.lower():漯\n",
      "5.142041 B-PER    word.lower():尧\n",
      "5.122140 B-LOC    -1:word.lower():℃\n",
      "5.109856 B-PER    word.lower():褚\n",
      "5.109544 B-PER    +1:word.lower():娘\n",
      "5.061371 O        word.lower():副\n",
      "5.053542 I-LOC    -1:word.lower():喀\n",
      "5.033499 O        postag:udeng\n",
      "5.008554 B-PER    word.lower():冯\n",
      "\n",
      "Top negative:\n",
      "-3.981206 I-LOC    word.lower():社\n",
      "-4.016900 O        word.lower():阮\n",
      "-4.021898 B-PER    postag:nis\n",
      "-4.021973 O        word.lower():宁\n",
      "-4.038153 O        word.lower():燕\n",
      "-4.162957 B-LOC    postag:w\n",
      "-4.251948 I-PER    word.lower():主\n",
      "-4.287537 O        word.lower():曹\n",
      "-4.317325 O        postag:nsf\n",
      "-4.324601 I-PER    word.lower():老\n",
      "-4.537364 B-ORG    -1:postag:nto\n",
      "-4.577975 B-LOC    +1:word.lower():书\n",
      "-4.651503 B-LOC    +1:word.lower():术\n",
      "-4.688935 B-ORG    -1:postag:nt\n",
      "-4.712342 O        word.lower():潘\n",
      "-4.715596 I-ORG    +1:word.lower():朗\n",
      "-4.760178 O        word.lower():吕\n",
      "-4.778476 I-ORG    -1:word.lower():队\n",
      "-4.788323 I-PER    word.lower():总\n",
      "-4.852370 I-LOC    word.lower():方\n",
      "-4.882280 O        word.lower():郭\n",
      "-5.023730 O        word.lower():吴\n",
      "-5.039564 B-PER    postag:nnt\n",
      "-5.104850 B-ORG    -1:postag:ntc\n",
      "-5.179963 O        word.lower():李\n",
      "-5.367629 B-PER    -1:postag:nrf\n",
      "-5.445051 B-PER    postag:w\n",
      "-5.656735 I-PER    word.lower():摄\n",
      "-6.081815 I-ORG    BOS\n",
      "-6.142781 O        word.lower():刘\n"
     ]
    }
   ],
   "source": [
    "def print_state_features(state_features):\n",
    "    for (attr, label), weight in state_features:\n",
    "        print(\"%0.6f %-8s %s\" % (weight, label, attr))\n",
    "\n",
    "print(\"Top positive:\")\n",
    "print_state_features(Counter(crf.state_features_).most_common(30))\n",
    "\n",
    "print(\"\\nTop negative:\")\n",
    "print_state_features(Counter(crf.state_features_).most_common()[-30:])"
   ]
  },
  {
   "cell_type": "markdown",
   "metadata": {},
   "source": [
    "结果挺合理，赵、寇、薛 确实是姓比较多     \n",
    "禺 确实是名比较多"
   ]
  }
 ],
 "metadata": {
  "kernelspec": {
   "display_name": "Python 3",
   "language": "python",
   "name": "python3"
  },
  "language_info": {
   "codemirror_mode": {
    "name": "ipython",
    "version": 3
   },
   "file_extension": ".py",
   "mimetype": "text/x-python",
   "name": "python",
   "nbconvert_exporter": "python",
   "pygments_lexer": "ipython3",
   "version": "3.6.5"
  }
 },
 "nbformat": 4,
 "nbformat_minor": 2
}
