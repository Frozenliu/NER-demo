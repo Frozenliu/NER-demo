{
 "cells": [
  {
   "cell_type": "code",
   "execution_count": 2,
   "metadata": {},
   "outputs": [
    {
     "name": "stderr",
     "output_type": "stream",
     "text": [
      "/usr/local/lib/python3.6/site-packages/sklearn/cross_validation.py:41: DeprecationWarning: This module was deprecated in version 0.18 in favor of the model_selection module into which all the refactored classes and functions are moved. Also note that the interface of the new CV iterators are different from that of this module. This module will be removed in 0.20.\n",
      "  \"This module will be removed in 0.20.\", DeprecationWarning)\n",
      "/usr/local/lib/python3.6/site-packages/sklearn/grid_search.py:42: DeprecationWarning: This module was deprecated in version 0.18 in favor of the model_selection module into which all the refactored classes and functions are moved. This module will be removed in 0.20.\n",
      "  DeprecationWarning)\n"
     ]
    }
   ],
   "source": [
    "%matplotlib inline\n",
    "import matplotlib.pyplot as plt\n",
    "plt.style.use('ggplot')\n",
    "import sklearn_crfsuite\n",
    "from itertools import chain\n",
    "import nltk\n",
    "import sklearn\n",
    "import scipy.stats\n",
    "from sklearn.metrics import make_scorer\n",
    "from sklearn.cross_validation import cross_val_score\n",
    "from sklearn.grid_search import RandomizedSearchCV\n",
    "import re\n",
    "import sklearn_crfsuite\n",
    "from sklearn_crfsuite import scorers\n",
    "from sklearn_crfsuite import metrics"
   ]
  },
  {
   "cell_type": "code",
   "execution_count": 3,
   "metadata": {},
   "outputs": [
    {
     "name": "stdout",
     "output_type": "stream",
     "text": [
      "251768\n",
      "CPU times: user 6.79 s, sys: 608 ms, total: 7.4 s\n",
      "Wall time: 7.6 s\n"
     ]
    }
   ],
   "source": [
    "%%time\n",
    "def get_sents(path):\n",
    "    #'../data/train.txt';'../data/dev.txt'\n",
    "    sentences = []\n",
    "    sentence = []\n",
    "    cnt = 0\n",
    "    split_pattern = re.compile(r',|\\.|;|，|。|；') #.要转义，不然表示的是通配符\n",
    "    with open(path,'r',encoding = 'utf8') as f:\n",
    "        for line in f.readlines():#每行为一个字符和其tag，中间用tab隔开\n",
    "            line = line.strip().split('\\t')\n",
    "            if(not line or len(line) < 2): continue\n",
    "            word = (line[0],line[1])\n",
    "            if split_pattern.match(word[0]):\n",
    "                sentence.append(word)\n",
    "                sentences.append(sentence.copy())\n",
    "                sentence.clear()\n",
    "            else:\n",
    "                sentence.append(word)\n",
    "        if(len(sentence)):\n",
    "            sentences.append(sentence.copy())\n",
    "            sentence.clear()\n",
    "    return sentences\n",
    "train_sentences = get_sents('../data/train.txt')\n",
    "print(len(train_sentences))"
   ]
  },
  {
   "cell_type": "code",
   "execution_count": 4,
   "metadata": {},
   "outputs": [
    {
     "data": {
      "text/plain": [
       "[('当', 'O'),\n",
       " ('希', 'O'),\n",
       " ('望', 'O'),\n",
       " ('工', 'O'),\n",
       " ('程', 'O'),\n",
       " ('救', 'O'),\n",
       " ('助', 'O'),\n",
       " ('的', 'O'),\n",
       " ('百', 'O'),\n",
       " ('万', 'O'),\n",
       " ('儿', 'O'),\n",
       " ('童', 'O'),\n",
       " ('成', 'O'),\n",
       " ('长', 'O'),\n",
       " ('起', 'O'),\n",
       " ('来', 'O'),\n",
       " ('，', 'O')]"
      ]
     },
     "execution_count": 4,
     "metadata": {},
     "output_type": "execute_result"
    }
   ],
   "source": [
    "train_sentences[0]"
   ]
  },
  {
   "cell_type": "code",
   "execution_count": 5,
   "metadata": {},
   "outputs": [
    {
     "data": {
      "text/plain": [
       "['O',\n",
       " 'O',\n",
       " 'O',\n",
       " 'O',\n",
       " 'O',\n",
       " 'O',\n",
       " 'O',\n",
       " 'O',\n",
       " 'O',\n",
       " 'O',\n",
       " 'O',\n",
       " 'O',\n",
       " 'O',\n",
       " 'O',\n",
       " 'O',\n",
       " 'O',\n",
       " 'O']"
      ]
     },
     "execution_count": 5,
     "metadata": {},
     "output_type": "execute_result"
    }
   ],
   "source": [
    "[label for token,label in train_sentences[0]]"
   ]
  },
  {
   "cell_type": "code",
   "execution_count": 6,
   "metadata": {},
   "outputs": [
    {
     "name": "stdout",
     "output_type": "stream",
     "text": [
      "CPU times: user 264 ms, sys: 30.8 ms, total: 295 ms\n",
      "Wall time: 302 ms\n"
     ]
    }
   ],
   "source": [
    "%%time\n",
    "train_sents = train_sentences\n",
    "test_sents = get_sents('../data/dev.txt')"
   ]
  },
  {
   "cell_type": "code",
   "execution_count": 7,
   "metadata": {},
   "outputs": [],
   "source": [
    "def word2features(sent, i):\n",
    "    word = sent[i][0]\n",
    "    postag = sent[i][1]\n",
    "\n",
    "    features = {\n",
    "        'bias': 1.0,\n",
    "        'word.lower()': word.lower(),\n",
    "#         'word[-3:]': word[-3:],\n",
    "#         'word[-2:]': word[-2:],\n",
    "        'word.isupper()': word.isupper(),\n",
    "        'word.istitle()': word.istitle(),\n",
    "        'word.isdigit()': word.isdigit(),\n",
    "#         'postag': postag, #原始数据中没有词性标记\n",
    "#         'postag[:2]': postag[:2],\n",
    "    }\n",
    "    if i > 0:\n",
    "        word1 = sent[i-1][0]\n",
    "#         postag1 = sent[i-1][1]\n",
    "        features.update({\n",
    "            '-1:word.lower()': word1.lower(),\n",
    "            '-1:word.istitle()': word1.istitle(),\n",
    "            '-1:word.isupper()': word1.isupper(),\n",
    "#             '-1:postag': postag1,\n",
    "#             '-1:postag[:2]': postag1[:2],\n",
    "        })\n",
    "    else:\n",
    "        features['BOS'] = True\n",
    "\n",
    "    if i < len(sent)-1:\n",
    "        word1 = sent[i+1][0]\n",
    "#         postag1 = sent[i+1][1]\n",
    "        features.update({\n",
    "            '+1:word.lower()': word1.lower(),\n",
    "            '+1:word.istitle()': word1.istitle(),\n",
    "            '+1:word.isupper()': word1.isupper(),\n",
    "#             '+1:postag': postag1,\n",
    "#             '+1:postag[:2]': postag1[:2],\n",
    "        })\n",
    "    else:\n",
    "        features['EOS'] = True\n",
    "\n",
    "    return features\n",
    "\n",
    "\n",
    "def sent2features(sent): #一个句子对应了一个序列\n",
    "    return [word2features(sent, i) for i in range(len(sent))]\n",
    "\n",
    "def sent2labels(sent):\n",
    "    return [label for token,label in sent]\n",
    "#     return [label for token, postag, label in sent]\n",
    "\n",
    "def sent2tokens(sent):\n",
    "    return [token for token,label in sent]"
   ]
  },
  {
   "cell_type": "code",
   "execution_count": 8,
   "metadata": {},
   "outputs": [
    {
     "data": {
      "text/plain": [
       "{'bias': 1.0,\n",
       " 'word.lower()': '当',\n",
       " 'word.isupper()': False,\n",
       " 'word.istitle()': False,\n",
       " 'word.isdigit()': False,\n",
       " 'BOS': True,\n",
       " '+1:word.lower()': '希',\n",
       " '+1:word.istitle()': False,\n",
       " '+1:word.isupper()': False}"
      ]
     },
     "execution_count": 8,
     "metadata": {},
     "output_type": "execute_result"
    }
   ],
   "source": [
    "sent2features(train_sents[0])[0] #注意中文和英文/spanish的区别，一是需要切词，二是word[-2:]这种是没意义的"
   ]
  },
  {
   "cell_type": "code",
   "execution_count": 9,
   "metadata": {},
   "outputs": [
    {
     "name": "stdout",
     "output_type": "stream",
     "text": [
      "CPU times: user 14.8 s, sys: 2.51 s, total: 17.3 s\n",
      "Wall time: 18.6 s\n"
     ]
    }
   ],
   "source": [
    "%%time\n",
    "X_train = [sent2features(s) for s in train_sents]\n",
    "y_train = [sent2labels(s) for s in train_sents]\n",
    "\n",
    "X_test = [sent2features(s) for s in test_sents]\n",
    "y_test = [sent2labels(s) for s in test_sents]"
   ]
  },
  {
   "cell_type": "code",
   "execution_count": 10,
   "metadata": {},
   "outputs": [
    {
     "name": "stdout",
     "output_type": "stream",
     "text": [
      "CPU times: user 5min 2s, sys: 11.1 s, total: 5min 13s\n",
      "Wall time: 5min 29s\n"
     ]
    }
   ],
   "source": [
    "%%time\n",
    "crf = sklearn_crfsuite.CRF(\n",
    "    algorithm='lbfgs',\n",
    "    c1=0.1,\n",
    "    c2=0.1,\n",
    "    max_iterations=100,\n",
    "    all_possible_transitions=True\n",
    ")\n",
    "crf.fit(X_train, y_train)"
   ]
  },
  {
   "cell_type": "code",
   "execution_count": 12,
   "metadata": {},
   "outputs": [
    {
     "data": {
      "text/plain": [
       "['B-LOC', 'I-LOC', 'B-ORG', 'I-ORG', 'B-PER', 'I-PER']"
      ]
     },
     "execution_count": 12,
     "metadata": {},
     "output_type": "execute_result"
    }
   ],
   "source": [
    "labels = list(crf.classes_)\n",
    "labels.remove('O')\n",
    "labels.remove('OO')\n",
    "labels"
   ]
  },
  {
   "cell_type": "code",
   "execution_count": 13,
   "metadata": {},
   "outputs": [
    {
     "data": {
      "text/plain": [
       "0.7584794834915617"
      ]
     },
     "execution_count": 13,
     "metadata": {},
     "output_type": "execute_result"
    }
   ],
   "source": [
    "y_pred = crf.predict(X_test)\n",
    "#输入要求是二维list\n",
    "metrics.flat_f1_score(y_test, y_pred,\n",
    "                      average='weighted', labels=labels)"
   ]
  },
  {
   "cell_type": "code",
   "execution_count": 15,
   "metadata": {},
   "outputs": [
    {
     "data": {
      "text/plain": [
       "10754"
      ]
     },
     "execution_count": 15,
     "metadata": {},
     "output_type": "execute_result"
    }
   ],
   "source": [
    "len(y_pred)"
   ]
  },
  {
   "cell_type": "code",
   "execution_count": 17,
   "metadata": {},
   "outputs": [
    {
     "data": {
      "text/plain": [
       "[['B-ORG',\n",
       "  'I-ORG',\n",
       "  'I-ORG',\n",
       "  'I-ORG',\n",
       "  'I-ORG',\n",
       "  'I-ORG',\n",
       "  'I-ORG',\n",
       "  'I-ORG',\n",
       "  'I-ORG',\n",
       "  'I-ORG',\n",
       "  'I-ORG',\n",
       "  'I-ORG',\n",
       "  'I-ORG',\n",
       "  'O',\n",
       "  'O',\n",
       "  'O',\n",
       "  'O',\n",
       "  'O',\n",
       "  'O',\n",
       "  'O',\n",
       "  'O',\n",
       "  'O',\n",
       "  'O',\n",
       "  'O',\n",
       "  'O',\n",
       "  'O',\n",
       "  'O',\n",
       "  'B-LOC',\n",
       "  'I-LOC',\n",
       "  'O',\n",
       "  'O',\n",
       "  'O',\n",
       "  'O',\n",
       "  'O',\n",
       "  'O',\n",
       "  'O',\n",
       "  'O',\n",
       "  'O',\n",
       "  'O',\n",
       "  'O',\n",
       "  'O',\n",
       "  'O',\n",
       "  'O',\n",
       "  'O',\n",
       "  'O',\n",
       "  'O',\n",
       "  'O',\n",
       "  'O',\n",
       "  'O'],\n",
       " ['B-ORG',\n",
       "  'I-ORG',\n",
       "  'I-ORG',\n",
       "  'I-ORG',\n",
       "  'I-ORG',\n",
       "  'I-ORG',\n",
       "  'I-ORG',\n",
       "  'I-ORG',\n",
       "  'I-ORG',\n",
       "  'I-ORG',\n",
       "  'O',\n",
       "  'O',\n",
       "  'O',\n",
       "  'O',\n",
       "  'O',\n",
       "  'O',\n",
       "  'O',\n",
       "  'O',\n",
       "  'O',\n",
       "  'O',\n",
       "  'O',\n",
       "  'O'],\n",
       " ['O',\n",
       "  'O',\n",
       "  'O',\n",
       "  'O',\n",
       "  'O',\n",
       "  'O',\n",
       "  'O',\n",
       "  'O',\n",
       "  'O',\n",
       "  'O',\n",
       "  'O',\n",
       "  'O',\n",
       "  'O',\n",
       "  'O',\n",
       "  'O',\n",
       "  'O',\n",
       "  'O',\n",
       "  'O',\n",
       "  'O',\n",
       "  'O',\n",
       "  'O',\n",
       "  'O',\n",
       "  'O',\n",
       "  'O'],\n",
       " ['O', 'O', 'O', 'O', 'B-PER', 'I-PER', 'I-PER', 'O', 'O', 'O', 'O', 'O', 'O'],\n",
       " ['O',\n",
       "  'O',\n",
       "  'O',\n",
       "  'O',\n",
       "  'O',\n",
       "  'O',\n",
       "  'O',\n",
       "  'O',\n",
       "  'O',\n",
       "  'O',\n",
       "  'O',\n",
       "  'O',\n",
       "  'O',\n",
       "  'O',\n",
       "  'O',\n",
       "  'O'],\n",
       " ['O',\n",
       "  'O',\n",
       "  'O',\n",
       "  'O',\n",
       "  'O',\n",
       "  'O',\n",
       "  'O',\n",
       "  'O',\n",
       "  'O',\n",
       "  'O',\n",
       "  'O',\n",
       "  'O',\n",
       "  'O',\n",
       "  'O',\n",
       "  'O',\n",
       "  'O',\n",
       "  'O',\n",
       "  'O',\n",
       "  'O',\n",
       "  'O',\n",
       "  'O',\n",
       "  'O',\n",
       "  'O',\n",
       "  'O',\n",
       "  'O',\n",
       "  'O',\n",
       "  'O',\n",
       "  'O',\n",
       "  'O',\n",
       "  'O',\n",
       "  'O',\n",
       "  'O'],\n",
       " ['O',\n",
       "  'O',\n",
       "  'O',\n",
       "  'O',\n",
       "  'O',\n",
       "  'O',\n",
       "  'O',\n",
       "  'O',\n",
       "  'O',\n",
       "  'O',\n",
       "  'O',\n",
       "  'O',\n",
       "  'O',\n",
       "  'O',\n",
       "  'O',\n",
       "  'O'],\n",
       " ['O',\n",
       "  'O',\n",
       "  'O',\n",
       "  'O',\n",
       "  'O',\n",
       "  'O',\n",
       "  'O',\n",
       "  'O',\n",
       "  'O',\n",
       "  'O',\n",
       "  'O',\n",
       "  'O',\n",
       "  'O',\n",
       "  'O',\n",
       "  'O',\n",
       "  'O',\n",
       "  'O',\n",
       "  'O'],\n",
       " ['O', 'O', 'O', 'O', 'O', 'O', 'O', 'O', 'O', 'O', 'O', 'O'],\n",
       " ['O',\n",
       "  'O',\n",
       "  'O',\n",
       "  'O',\n",
       "  'O',\n",
       "  'O',\n",
       "  'O',\n",
       "  'O',\n",
       "  'O',\n",
       "  'O',\n",
       "  'O',\n",
       "  'O',\n",
       "  'O',\n",
       "  'O',\n",
       "  'O',\n",
       "  'O']]"
      ]
     },
     "execution_count": 17,
     "metadata": {},
     "output_type": "execute_result"
    }
   ],
   "source": [
    "y_pred[:10]"
   ]
  },
  {
   "cell_type": "code",
   "execution_count": 16,
   "metadata": {},
   "outputs": [
    {
     "data": {
      "text/plain": [
       "10754"
      ]
     },
     "execution_count": 16,
     "metadata": {},
     "output_type": "execute_result"
    }
   ],
   "source": [
    "len(y_test)"
   ]
  },
  {
   "cell_type": "code",
   "execution_count": 13,
   "metadata": {},
   "outputs": [
    {
     "name": "stdout",
     "output_type": "stream",
     "text": [
      "             precision    recall  f1-score   support\n",
      "\n",
      "      B-LOC      0.887     0.729     0.800      2877\n",
      "      I-LOC      0.837     0.705     0.765      4394\n",
      "      B-ORG      0.826     0.497     0.620      1331\n",
      "      I-ORG      0.855     0.587     0.696      5670\n",
      "      B-PER      0.927     0.644     0.760      1973\n",
      "      I-PER      0.821     0.899     0.858      3851\n",
      "\n",
      "avg / total      0.854     0.693     0.758     20096\n",
      "\n"
     ]
    }
   ],
   "source": [
    "# group B and I results\n",
    "sorted_labels = sorted(\n",
    "    labels,\n",
    "    key=lambda name: (name[1:], name[0])\n",
    ")\n",
    "print(metrics.flat_classification_report(\n",
    "    y_test, y_pred, labels=sorted_labels, digits=3\n",
    "))"
   ]
  },
  {
   "cell_type": "code",
   "execution_count": null,
   "metadata": {},
   "outputs": [],
   "source": []
  },
  {
   "cell_type": "code",
   "execution_count": 14,
   "metadata": {},
   "outputs": [
    {
     "name": "stdout",
     "output_type": "stream",
     "text": [
      "Top likely transitions:\n",
      "B-ORG  -> I-ORG   6.693297\n",
      "I-ORG  -> I-ORG   5.917964\n",
      "I-PER  -> I-PER   4.503271\n",
      "B-PER  -> I-PER   4.424285\n",
      "B-LOC  -> I-LOC   3.558887\n",
      "I-LOC  -> I-LOC   3.147341\n",
      "O      -> O       2.915145\n",
      "I-PER  -> O       0.291362\n",
      "O      -> B-PER   0.222525\n",
      "O      -> OO      -0.009825\n",
      "OO     -> B-LOC   -0.011809\n",
      "OO     -> I-ORG   -0.056277\n",
      "I-LOC  -> O       -0.085696\n",
      "I-PER  -> B-PER   -0.092894\n",
      "O      -> B-LOC   -0.099661\n",
      "I-ORG  -> OO      -0.186779\n",
      "OO     -> B-ORG   -0.210731\n",
      "B-LOC  -> OO      -0.226664\n",
      "B-LOC  -> B-LOC   -0.248156\n",
      "O      -> B-ORG   -0.305862\n",
      "\n",
      "Top unlikely transitions:\n",
      "I-LOC  -> B-ORG   -3.568171\n",
      "B-ORG  -> B-PER   -3.631431\n",
      "I-ORG  -> B-ORG   -3.632806\n",
      "I-ORG  -> I-LOC   -3.685865\n",
      "O      -> I-PER   -3.881603\n",
      "B-LOC  -> B-ORG   -4.392521\n",
      "O      -> I-LOC   -4.430602\n",
      "B-ORG  -> B-LOC   -4.602847\n",
      "B-ORG  -> I-PER   -4.648572\n",
      "B-PER  -> I-ORG   -4.869667\n",
      "I-ORG  -> I-PER   -5.236413\n",
      "O      -> I-ORG   -5.244606\n",
      "B-LOC  -> B-PER   -5.305368\n",
      "B-ORG  -> I-LOC   -5.520174\n",
      "B-PER  -> B-ORG   -5.632302\n",
      "I-LOC  -> I-ORG   -5.700705\n",
      "B-PER  -> B-LOC   -5.907617\n",
      "B-LOC  -> I-ORG   -6.586946\n",
      "B-LOC  -> I-PER   -6.719540\n",
      "B-PER  -> I-LOC   -7.892431\n"
     ]
    }
   ],
   "source": [
    "from collections import Counter\n",
    "\n",
    "def print_transitions(trans_features):\n",
    "    for (label_from, label_to), weight in trans_features:\n",
    "        print(\"%-6s -> %-7s %0.6f\" % (label_from, label_to, weight))\n",
    "\n",
    "print(\"Top likely transitions:\")\n",
    "print_transitions(Counter(crf.transition_features_).most_common(20))\n",
    "\n",
    "print(\"\\nTop unlikely transitions:\")\n",
    "print_transitions(Counter(crf.transition_features_).most_common()[-20:])"
   ]
  },
  {
   "cell_type": "code",
   "execution_count": 15,
   "metadata": {},
   "outputs": [
    {
     "name": "stdout",
     "output_type": "stream",
     "text": [
      "Top positive:\n",
      "10.012017 B-PER    word.lower():寇\n",
      "9.400738 I-PER    word.lower():禺\n",
      "9.329036 O        word.lower():、\n",
      "8.872628 B-PER    word.lower():赵\n",
      "8.669026 B-PER    word.lower():薛\n",
      "8.159837 I-PER    word.lower():赵\n",
      "8.038186 O        word.lower():：\n",
      "7.970054 B-PER    word.lower():袁\n",
      "7.968682 B-PER    word.lower():褚\n",
      "7.889821 O        word.lower():在\n",
      "7.671005 B-PER    word.lower():崔\n",
      "7.267791 O        word.lower():到\n",
      "7.266307 I-LOC    word.lower():圳\n",
      "7.239389 O        EOS\n",
      "7.220608 B-PER    word.lower():靳\n",
      "7.177016 O        +1:word.lower():锅\n",
      "7.141145 B-LOC    word.lower():淮\n",
      "7.077142 B-LOC    -1:word.lower():℃\n",
      "7.001757 O        word.lower():讯\n",
      "6.832341 O        word.lower():说\n",
      "6.810339 O        word.lower():是\n",
      "6.627558 B-PER    word.lower():邱\n",
      "6.602011 B-PER    word.lower():董\n",
      "6.568463 O        word.lower():将\n",
      "6.411261 B-PER    word.lower():翟\n",
      "6.353531 B-PER    word.lower():滕\n",
      "6.289114 O        word.lower():给\n",
      "6.258655 O        word.lower():访\n",
      "6.227652 B-LOC    word.lower():秘\n",
      "6.214056 O        word.lower():等\n",
      "\n",
      "Top negative:\n",
      "-4.497874 O        word.lower():彭\n",
      "-4.504659 I-ORG    word.lower():成\n",
      "-4.532211 O        word.lower():胡\n",
      "-4.589476 O        word.lower():朱\n",
      "-4.597968 B-LOC    +1:word.lower():铁\n",
      "-4.620249 O        word.lower():冈\n",
      "-4.654725 O        word.lower():曼\n",
      "-4.662751 O        word.lower():浦\n",
      "-4.672827 O        word.lower():澳\n",
      "-4.707493 I-ORG    -1:word.lower():社\n",
      "-4.730400 O        word.lower():杜\n",
      "-4.750114 O        word.lower():萨\n",
      "-4.837724 I-PER    word.lower():院\n",
      "-4.847333 O        word.lower():吕\n",
      "-4.849856 O        word.lower():杨\n",
      "-4.901976 I-PER    word.lower():主\n",
      "-5.046489 I-LOC    word.lower():社\n",
      "-5.085428 O        word.lower():陕\n",
      "-5.100001 O        word.lower():韩\n",
      "-5.214347 O        word.lower():亚\n",
      "-5.286663 O        word.lower():李\n",
      "-5.308322 O        word.lower():郭\n",
      "-5.397593 O        word.lower():潘\n",
      "-5.572111 B-LOC    +1:word.lower():书\n",
      "-5.697451 O        word.lower():曹\n",
      "-5.794088 B-LOC    +1:word.lower():术\n",
      "-6.046218 OO       bias\n",
      "-6.490013 I-PER    +1:word.lower():牌\n",
      "-6.683913 O        word.lower():吴\n",
      "-7.231766 O        word.lower():刘\n"
     ]
    }
   ],
   "source": [
    "def print_state_features(state_features):\n",
    "    for (attr, label), weight in state_features:\n",
    "        print(\"%0.6f %-8s %s\" % (weight, label, attr))\n",
    "\n",
    "print(\"Top positive:\")\n",
    "print_state_features(Counter(crf.state_features_).most_common(30))\n",
    "\n",
    "print(\"\\nTop negative:\")\n",
    "print_state_features(Counter(crf.state_features_).most_common()[-30:])\n",
    "#结果挺合理，寇确实是姓比较多\n",
    "#禺确实是名比较多"
   ]
  },
  {
   "cell_type": "code",
   "execution_count": null,
   "metadata": {
    "collapsed": true
   },
   "outputs": [],
   "source": []
  }
 ],
 "metadata": {
  "kernelspec": {
   "display_name": "Python 3",
   "language": "python",
   "name": "python3"
  },
  "language_info": {
   "codemirror_mode": {
    "name": "ipython",
    "version": 3
   },
   "file_extension": ".py",
   "mimetype": "text/x-python",
   "name": "python",
   "nbconvert_exporter": "python",
   "pygments_lexer": "ipython3",
   "version": "3.6.5"
  }
 },
 "nbformat": 4,
 "nbformat_minor": 2
}
