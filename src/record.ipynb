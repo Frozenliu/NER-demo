{
 "cells": [
  {
   "cell_type": "markdown",
   "metadata": {},
   "source": [
    "ratio = 0.2\n",
    "    \n",
    "            precision    recall  f1-score   support\n",
    "\n",
    "           PER    0.4503    0.2250    0.3001      1973\n",
    "                      \n",
    "           ORG    0.0909    0.0015    0.0030      1331\n",
    "                     \n",
    "           LOC    0.5883    0.3219    0.4161      2877\n",
    "                     \n",
    "           avg / total     0.4371    0.2220    0.2901      6181"
   ]
  },
  {
   "cell_type": "code",
   "execution_count": 1,
   "metadata": {},
   "outputs": [
    {
     "name": "stdout",
     "output_type": "stream",
     "text": [
      "/Users/k/Documents/codes/NER-demo/src\r\n"
     ]
    }
   ],
   "source": [
    "!pwd"
   ]
  },
  {
   "cell_type": "code",
   "execution_count": 2,
   "metadata": {},
   "outputs": [
    {
     "data": {
      "text/plain": [
       "0"
      ]
     },
     "execution_count": 2,
     "metadata": {},
     "output_type": "execute_result"
    }
   ],
   "source": [
    "import os\n",
    "os.system('python3 count.py 0.1')\n",
    "os.system('python3 hmm.py')\n",
    "os.system('python3 eval.py')"
   ]
  },
  {
   "cell_type": "code",
   "execution_count": 3,
   "metadata": {},
   "outputs": [
    {
     "name": "stdout",
     "output_type": "stream",
     "text": [
      "             precision    recall  f1-score   support\r\n",
      "\r\n",
      "       LOC\r\n",
      "     0.5695    0.5283    0.5481      2877\r\n",
      "       PER\r\n",
      "     0.5055    0.3467    0.4113      1973\r\n",
      "       ORG\r\n",
      "     0.5102    0.0376    0.0700      1331\r\n",
      "\r\n",
      "avg / total     0.5363    0.3647    0.4015      6181\r\n",
      "\r\n"
     ]
    }
   ],
   "source": [
    "!python3 eval.py"
   ]
  },
  {
   "cell_type": "code",
   "execution_count": 4,
   "metadata": {},
   "outputs": [
    {
     "name": "stdout",
     "output_type": "stream",
     "text": [
      "generated initial_vector saved in /Users/k/Documents/codes/NER-demo/data/initial_vector.txt\n",
      "generated transition_probability with offset saved in /Users/k/Documents/codes/NER-demo/data/tran_with_offset.txt\n",
      "generated emission_probability saved in /Users/k/Documents/codes/NER-demo/data/emit.txt\n",
      "completed recognition\n",
      "             precision    recall  f1-score   support\n",
      "\n",
      "       LOC\n",
      "     0.5061    0.5652    0.5340      2877\n",
      "       ORG\n",
      "     0.3632    0.1277    0.1890      1331\n",
      "       PER\n",
      "     0.5554    0.4496    0.4969      1973\n",
      "\n",
      "avg / total     0.4911    0.4341    0.4479      6181\n",
      "\n"
     ]
    }
   ],
   "source": [
    "!python3 count.py 0.05\n",
    "!python3 hmm.py\n",
    "!python3 eval.py"
   ]
  },
  {
   "cell_type": "code",
   "execution_count": 5,
   "metadata": {},
   "outputs": [
    {
     "name": "stdout",
     "output_type": "stream",
     "text": [
      "generated initial_vector saved in /Users/k/Documents/codes/NER-demo/data/initial_vector.txt\n",
      "generated transition_probability with offset saved in /Users/k/Documents/codes/NER-demo/data/tran_with_offset.txt\n",
      "generated emission_probability saved in /Users/k/Documents/codes/NER-demo/data/emit.txt\n",
      "completed recognition\n",
      "             precision    recall  f1-score   support\n",
      "\n",
      "       ORG\n",
      "     0.5135    0.0428    0.0791      1331\n",
      "       LOC\n",
      "     0.5716    0.5454    0.5582      2877\n",
      "       PER\n",
      "     0.5098    0.3553    0.4188      1973\n",
      "\n",
      "avg / total     0.5394    0.3765    0.4105      6181\n",
      "\n"
     ]
    }
   ],
   "source": [
    "!python3 count.py 0.09\n",
    "!python3 hmm.py\n",
    "!python3 eval.py"
   ]
  },
  {
   "cell_type": "markdown",
   "metadata": {},
   "source": [
    "效果不好的原因：    \n",
    "训练样本中有很多的O->O转移，统计出的O->O转移概率非常高，0.87左右。    \n",
    "其他的状态转移概率很低，这样导致标记序列都是OOOOOOO........    \n",
    "且emit概率都也是很低的，解码过程被O->O转移概率主导了。      \n",
    "想到的一个方法是强行让O->O转移概率降低，并实现其他转移概率的再分配，这样好一点。    \n",
    "\n",
    "此外对于emit概率还需要做平滑，使用了简单的+1平滑，但不是常规的+1平滑。"
   ]
  },
  {
   "cell_type": "code",
   "execution_count": null,
   "metadata": {},
   "outputs": [],
   "source": []
  },
  {
   "cell_type": "code",
   "execution_count": null,
   "metadata": {},
   "outputs": [],
   "source": []
  }
 ],
 "metadata": {
  "kernelspec": {
   "display_name": "Python 3",
   "language": "python",
   "name": "python3"
  },
  "language_info": {
   "codemirror_mode": {
    "name": "ipython",
    "version": 3
   },
   "file_extension": ".py",
   "mimetype": "text/x-python",
   "name": "python",
   "nbconvert_exporter": "python",
   "pygments_lexer": "ipython3",
   "version": "3.6.5"
  }
 },
 "nbformat": 4,
 "nbformat_minor": 2
}
