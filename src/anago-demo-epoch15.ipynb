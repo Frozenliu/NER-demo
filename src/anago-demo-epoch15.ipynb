{
 "cells": [
  {
   "cell_type": "code",
   "execution_count": 2,
   "metadata": {},
   "outputs": [
    {
     "ename": "ValueError",
     "evalue": "too many values to unpack (expected 2)",
     "output_type": "error",
     "traceback": [
      "\u001b[0;31m---------------------------------------------------------------------------\u001b[0m",
      "\u001b[0;31mValueError\u001b[0m                                Traceback (most recent call last)",
      "\u001b[0;32m<ipython-input-2-f8014457a636>\u001b[0m in \u001b[0;36m<module>\u001b[0;34m()\u001b[0m\n\u001b[1;32m      1\u001b[0m \u001b[0;32mfrom\u001b[0m \u001b[0manago\u001b[0m\u001b[0;34m.\u001b[0m\u001b[0mutils\u001b[0m \u001b[0;32mimport\u001b[0m \u001b[0mload_data_and_labels\u001b[0m\u001b[0;34m\u001b[0m\u001b[0m\n\u001b[0;32m----> 2\u001b[0;31m \u001b[0mx_train\u001b[0m\u001b[0;34m,\u001b[0m \u001b[0my_train\u001b[0m \u001b[0;34m=\u001b[0m \u001b[0mload_data_and_labels\u001b[0m\u001b[0;34m(\u001b[0m\u001b[0;34m'../data/train.txt'\u001b[0m\u001b[0;34m)\u001b[0m\u001b[0;34m\u001b[0m\u001b[0m\n\u001b[0m\u001b[1;32m      3\u001b[0m \u001b[0mx_test\u001b[0m\u001b[0;34m,\u001b[0m \u001b[0my_test\u001b[0m \u001b[0;34m=\u001b[0m \u001b[0mload_data_and_labels\u001b[0m\u001b[0;34m(\u001b[0m\u001b[0;34m'../data/dev.txt'\u001b[0m\u001b[0;34m)\u001b[0m\u001b[0;34m\u001b[0m\u001b[0m\n\u001b[1;32m      4\u001b[0m \u001b[0mx_train\u001b[0m\u001b[0;34m[\u001b[0m\u001b[0;36m0\u001b[0m\u001b[0;34m]\u001b[0m\u001b[0;34m\u001b[0m\u001b[0m\n",
      "\u001b[0;32m~/Library/Python/3.6/lib/python/site-packages/anago/utils.py\u001b[0m in \u001b[0;36mload_data_and_labels\u001b[0;34m(filename, encoding)\u001b[0m\n\u001b[1;32m     65\u001b[0m             \u001b[0mline\u001b[0m \u001b[0;34m=\u001b[0m \u001b[0mline\u001b[0m\u001b[0;34m.\u001b[0m\u001b[0mrstrip\u001b[0m\u001b[0;34m(\u001b[0m\u001b[0;34m)\u001b[0m\u001b[0;34m\u001b[0m\u001b[0m\n\u001b[1;32m     66\u001b[0m             \u001b[0;32mif\u001b[0m \u001b[0mline\u001b[0m\u001b[0;34m:\u001b[0m\u001b[0;34m\u001b[0m\u001b[0m\n\u001b[0;32m---> 67\u001b[0;31m                 \u001b[0mword\u001b[0m\u001b[0;34m,\u001b[0m \u001b[0mtag\u001b[0m \u001b[0;34m=\u001b[0m \u001b[0mline\u001b[0m\u001b[0;34m.\u001b[0m\u001b[0msplit\u001b[0m\u001b[0;34m(\u001b[0m\u001b[0;34m'\\t'\u001b[0m\u001b[0;34m)\u001b[0m\u001b[0;34m\u001b[0m\u001b[0m\n\u001b[0m\u001b[1;32m     68\u001b[0m                 \u001b[0mwords\u001b[0m\u001b[0;34m.\u001b[0m\u001b[0mappend\u001b[0m\u001b[0;34m(\u001b[0m\u001b[0mword\u001b[0m\u001b[0;34m)\u001b[0m\u001b[0;34m\u001b[0m\u001b[0m\n\u001b[1;32m     69\u001b[0m                 \u001b[0mtags\u001b[0m\u001b[0;34m.\u001b[0m\u001b[0mappend\u001b[0m\u001b[0;34m(\u001b[0m\u001b[0mtag\u001b[0m\u001b[0;34m)\u001b[0m\u001b[0;34m\u001b[0m\u001b[0m\n",
      "\u001b[0;31mValueError\u001b[0m: too many values to unpack (expected 2)"
     ]
    }
   ],
   "source": [
    "from anago.utils import load_data_and_labels\n",
    "x_train, y_train = load_data_and_labels('../data/train.txt')\n",
    "x_test, y_test = load_data_and_labels('../data/dev.txt')\n",
    "x_train[0]"
   ]
  },
  {
   "cell_type": "markdown",
   "metadata": {},
   "source": [
    "这样的写法显然是不robust的，改成\n",
    "```py\n",
    "                line = line.split('\\t')\n",
    "                word, tag = line[0],line[1]\n",
    "```"
   ]
  },
  {
   "cell_type": "code",
   "execution_count": 3,
   "metadata": {},
   "outputs": [],
   "source": [
    "# from anago.utils import load_data_and_labels  #这里是靠空行来切割句子的，这会导致句子过于长。\n",
    "import re\n",
    "def load_data_and_labels(path):\n",
    "    split_pattern = re.compile(r'[；;。，、？！\\.\\?,! ]')\n",
    "    x = []\n",
    "    y = []\n",
    "    sentence = []\n",
    "    labels = []\n",
    "    with open(path,'r',encoding = 'utf8') as f:\n",
    "        for line in f.readlines():#每行为一个字符和其tag，中间用tab隔开\n",
    "            line = line.strip().split('\\t')\n",
    "            if(not line or len(line) < 2): continue\n",
    "            word, tag= line[0], line[1]\n",
    "            if split_pattern.match(word):\n",
    "                sentence.append(word)\n",
    "                labels.append(tag)\n",
    "                x.append(sentence.copy())\n",
    "                y.append(labels.copy())\n",
    "                sentence.clear()\n",
    "                labels.clear()\n",
    "            else:\n",
    "                sentence.append(word)\n",
    "                labels.append(tag)\n",
    "        if(len(sentence)):\n",
    "            x.append(sentence.copy())\n",
    "            sentence.clear()\n",
    "            y.append(labels.copy())\n",
    "            labels.clear()\n",
    "    return x,y"
   ]
  },
  {
   "cell_type": "code",
   "execution_count": 4,
   "metadata": {},
   "outputs": [],
   "source": [
    "x_train, y_train = load_data_and_labels('../data/train.txt')\n",
    "x_test, y_test = load_data_and_labels('../data/dev.txt')"
   ]
  },
  {
   "cell_type": "code",
   "execution_count": 5,
   "metadata": {},
   "outputs": [
    {
     "name": "stdout",
     "output_type": "stream",
     "text": [
      "['当', '希', '望', '工', '程', '救', '助', '的', '百', '万', '儿', '童', '成', '长', '起', '来', '，']\n",
      "['O', 'O', 'O', 'O', 'O', 'O', 'O', 'O', 'O', 'O', 'O', 'O', 'O', 'O', 'O', 'O', 'O']\n"
     ]
    }
   ],
   "source": [
    "print(x_train[0])\n",
    "print(y_train[0])"
   ]
  },
  {
   "cell_type": "code",
   "execution_count": 6,
   "metadata": {},
   "outputs": [
    {
     "name": "stderr",
     "output_type": "stream",
     "text": [
      "/home/k/anaconda3/lib/python3.6/site-packages/h5py/__init__.py:36: FutureWarning: Conversion of the second argument of issubdtype from `float` to `np.floating` is deprecated. In future, it will be treated as `np.float64 == np.dtype(float).type`.\n",
      "  from ._conv import register_converters as _register_converters\n",
      "Using TensorFlow backend.\n"
     ]
    },
    {
     "name": "stdout",
     "output_type": "stream",
     "text": [
      "Epoch 1/15\n",
      "9331/9331 [==============================] - 2195s 235ms/step - loss: 7.3032\n",
      "Epoch 2/15\n",
      "9331/9331 [==============================] - 2347s 252ms/step - loss: 7.2532\n",
      "Epoch 3/15\n",
      "9331/9331 [==============================] - 2328s 249ms/step - loss: 7.2473\n",
      "Epoch 4/15\n",
      "9331/9331 [==============================] - 2351s 252ms/step - loss: 7.2439\n",
      "Epoch 5/15\n",
      "9331/9331 [==============================] - 2300s 246ms/step - loss: 7.2419\n",
      "Epoch 6/15\n",
      "9331/9331 [==============================] - 2226s 239ms/step - loss: 7.2405\n",
      "Epoch 7/15\n",
      "9331/9331 [==============================] - 2226s 239ms/step - loss: 7.2396\n",
      "Epoch 8/15\n",
      "9331/9331 [==============================] - 2225s 238ms/step - loss: 7.2387\n",
      "Epoch 9/15\n",
      "9331/9331 [==============================] - 2224s 238ms/step - loss: 7.2381\n",
      "Epoch 10/15\n",
      "9331/9331 [==============================] - 2220s 238ms/step - loss: 7.2378\n",
      "Epoch 11/15\n",
      "9331/9331 [==============================] - 2212s 237ms/step - loss: 7.2373\n",
      "Epoch 12/15\n",
      "9331/9331 [==============================] - 2224s 238ms/step - loss: 7.2371\n",
      "Epoch 13/15\n",
      "9331/9331 [==============================] - 2225s 238ms/step - loss: 7.2368\n",
      "Epoch 14/15\n",
      "9331/9331 [==============================] - 2220s 238ms/step - loss: 7.2366\n",
      "Epoch 15/15\n",
      "9331/9331 [==============================] - 2232s 239ms/step - loss: 7.2364\n"
     ]
    }
   ],
   "source": [
    "import anago\n",
    "model = anago.Sequence()\n",
    "model.fit(x_train, y_train, epochs=15)"
   ]
  },
  {
   "cell_type": "markdown",
   "metadata": {},
   "source": [
    "训练过程如下： \n",
    "\n",
    "Epoch 1/15\n",
    "9331/9331 [==============================] - 2319s 249ms/step - loss: 7.2982\n",
    "Epoch 2/15\n",
    "9331/9331 [==============================] - 2234s 239ms/step - loss: 7.2529\n",
    "Epoch 3/15\n",
    "9331/9331 [==============================] - 2236s 240ms/step - loss: 7.2469\n",
    "Epoch 4/15\n",
    "9331/9331 [==============================] - 2323s 249ms/step - loss: 7.2439\n",
    "Epoch 5/15\n",
    "8865/9331 [===========================>..] - ETA: 1:52 - loss: 7.2253\n",
    "\n",
    "用jupyter跑感觉很慢，而且训练过程中打印会出现问题。"
   ]
  },
  {
   "cell_type": "markdown",
   "metadata": {},
   "source": [
    "注意，model.score()只是返回一个F1-score，要print出来。由于没有print，曾浪费了10多个小时跑完15个epoch。"
   ]
  },
  {
   "cell_type": "code",
   "execution_count": 7,
   "metadata": {},
   "outputs": [
    {
     "name": "stdout",
     "output_type": "stream",
     "text": [
      "0.7459409594095942\n"
     ]
    }
   ],
   "source": [
    "print(model.score(x_test, y_test)) #score一次需要6-7分钟"
   ]
  },
  {
   "cell_type": "markdown",
   "metadata": {},
   "source": [
    "一个epoch   \n",
    "0.6514121589277165"
   ]
  },
  {
   "cell_type": "code",
   "execution_count": null,
   "metadata": {},
   "outputs": [],
   "source": [
    "# 纯crf模型，窗口为3，就可以达到80多的F1-score,且训练时间比NN方法短的多，预测用时也短。"
   ]
  }
 ],
 "metadata": {
  "kernelspec": {
   "display_name": "Python 3",
   "language": "python",
   "name": "python3"
  },
  "language_info": {
   "codemirror_mode": {
    "name": "ipython",
    "version": 3
   },
   "file_extension": ".py",
   "mimetype": "text/x-python",
   "name": "python",
   "nbconvert_exporter": "python",
   "pygments_lexer": "ipython3",
   "version": "3.6.5"
  }
 },
 "nbformat": 4,
 "nbformat_minor": 2
}
