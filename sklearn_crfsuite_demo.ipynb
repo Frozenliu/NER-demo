{
 "cells": [
  {
   "cell_type": "markdown",
   "metadata": {},
   "source": [
    "python crf库\n",
    "https://github.com/TeamHG-Memex/sklearn-crfsuite\n",
    "https://sklearn-crfsuite.readthedocs.io/en/latest/tutorial.html\n",
    "http://www.albertauyeung.com/post/python-sequence-labelling-with-crf/\n",
    "\n",
    "\n",
    "CRF++ 使用起来感觉要麻烦一点：\n",
    "https://taku910.github.io/crfpp/#install\n",
    "https://blog.csdn.net/u010626937/article/details/78414292\n",
    "https://blog.csdn.net/Gransand/article/details/80284436"
   ]
  },
  {
   "cell_type": "code",
   "execution_count": 1,
   "metadata": {
    "collapsed": true
   },
   "outputs": [],
   "source": [
    "%matplotlib inline\n",
    "import matplotlib.pyplot as plt\n",
    "plt.style.use('ggplot')"
   ]
  },
  {
   "cell_type": "code",
   "execution_count": 2,
   "metadata": {},
   "outputs": [
    {
     "name": "stderr",
     "output_type": "stream",
     "text": [
      "/Users/k/anaconda3/lib/python3.6/site-packages/sklearn/cross_validation.py:41: DeprecationWarning: This module was deprecated in version 0.18 in favor of the model_selection module into which all the refactored classes and functions are moved. Also note that the interface of the new CV iterators are different from that of this module. This module will be removed in 0.20.\n",
      "  \"This module will be removed in 0.20.\", DeprecationWarning)\n",
      "/Users/k/anaconda3/lib/python3.6/site-packages/sklearn/grid_search.py:42: DeprecationWarning: This module was deprecated in version 0.18 in favor of the model_selection module into which all the refactored classes and functions are moved. This module will be removed in 0.20.\n",
      "  DeprecationWarning)\n"
     ]
    }
   ],
   "source": [
    "from itertools import chain\n",
    "import nltk\n",
    "import sklearn\n",
    "import scipy.stats\n",
    "from sklearn.metrics import make_scorer\n",
    "from sklearn.cross_validation import cross_val_score\n",
    "from sklearn.grid_search import RandomizedSearchCV\n",
    "\n",
    "import sklearn_crfsuite\n",
    "from sklearn_crfsuite import scorers\n",
    "from sklearn_crfsuite import metrics"
   ]
  },
  {
   "cell_type": "code",
   "execution_count": 3,
   "metadata": {},
   "outputs": [
    {
     "data": {
      "text/plain": [
       "['esp.testa', 'esp.testb', 'esp.train', 'ned.testa', 'ned.testb', 'ned.train']"
      ]
     },
     "execution_count": 3,
     "metadata": {},
     "output_type": "execute_result"
    }
   ],
   "source": [
    "import nltk\n",
    "nltk.corpus.conll2002.fileids()"
   ]
  },
  {
   "cell_type": "code",
   "execution_count": 4,
   "metadata": {},
   "outputs": [
    {
     "name": "stdout",
     "output_type": "stream",
     "text": [
      "CPU times: user 2.05 s, sys: 137 ms, total: 2.19 s\n",
      "Wall time: 2.22 s\n"
     ]
    }
   ],
   "source": [
    "%%time\n",
    "train_sents = list(nltk.corpus.conll2002.iob_sents('esp.train'))\n",
    "test_sents = list(nltk.corpus.conll2002.iob_sents('esp.testb'))"
   ]
  },
  {
   "cell_type": "code",
   "execution_count": 5,
   "metadata": {},
   "outputs": [
    {
     "data": {
      "text/plain": [
       "[('Melbourne', 'NP', 'B-LOC'),\n",
       " ('(', 'Fpa', 'O'),\n",
       " ('Australia', 'NP', 'B-LOC'),\n",
       " (')', 'Fpt', 'O'),\n",
       " (',', 'Fc', 'O'),\n",
       " ('25', 'Z', 'O'),\n",
       " ('may', 'NC', 'O'),\n",
       " ('(', 'Fpa', 'O'),\n",
       " ('EFE', 'NC', 'B-ORG'),\n",
       " (')', 'Fpt', 'O'),\n",
       " ('.', 'Fp', 'O')]"
      ]
     },
     "execution_count": 5,
     "metadata": {},
     "output_type": "execute_result"
    }
   ],
   "source": [
    "train_sents[0]"
   ]
  },
  {
   "cell_type": "code",
   "execution_count": 6,
   "metadata": {
    "collapsed": true
   },
   "outputs": [],
   "source": [
    "def word2features(sent, i):\n",
    "    word = sent[i][0]\n",
    "    postag = sent[i][1]\n",
    "\n",
    "    features = {\n",
    "        'bias': 1.0,\n",
    "        'word.lower()': word.lower(),\n",
    "        'word[-3:]': word[-3:],\n",
    "        'word[-2:]': word[-2:],\n",
    "        'word.isupper()': word.isupper(),\n",
    "        'word.istitle()': word.istitle(),\n",
    "        'word.isdigit()': word.isdigit(),\n",
    "        'postag': postag,\n",
    "        'postag[:2]': postag[:2],\n",
    "    }\n",
    "    if i > 0:\n",
    "        word1 = sent[i-1][0]\n",
    "        postag1 = sent[i-1][1]\n",
    "        features.update({\n",
    "            '-1:word.lower()': word1.lower(),\n",
    "            '-1:word.istitle()': word1.istitle(),\n",
    "            '-1:word.isupper()': word1.isupper(),\n",
    "            '-1:postag': postag1,\n",
    "            '-1:postag[:2]': postag1[:2],\n",
    "        })\n",
    "    else:\n",
    "        features['BOS'] = True\n",
    "\n",
    "    if i < len(sent)-1:\n",
    "        word1 = sent[i+1][0]\n",
    "        postag1 = sent[i+1][1]\n",
    "        features.update({\n",
    "            '+1:word.lower()': word1.lower(),\n",
    "            '+1:word.istitle()': word1.istitle(),\n",
    "            '+1:word.isupper()': word1.isupper(),\n",
    "            '+1:postag': postag1,\n",
    "            '+1:postag[:2]': postag1[:2],\n",
    "        })\n",
    "    else:\n",
    "        features['EOS'] = True\n",
    "\n",
    "    return features\n",
    "\n",
    "\n",
    "def sent2features(sent):\n",
    "    return [word2features(sent, i) for i in range(len(sent))]\n",
    "\n",
    "def sent2labels(sent):\n",
    "    return [label for token, postag, label in sent]\n",
    "\n",
    "def sent2tokens(sent):\n",
    "    return [token for token, postag, label in sent]"
   ]
  },
  {
   "cell_type": "code",
   "execution_count": 7,
   "metadata": {},
   "outputs": [
    {
     "data": {
      "text/plain": [
       "{'+1:postag': 'Fpa',\n",
       " '+1:postag[:2]': 'Fp',\n",
       " '+1:word.istitle()': False,\n",
       " '+1:word.isupper()': False,\n",
       " '+1:word.lower()': '(',\n",
       " 'BOS': True,\n",
       " 'bias': 1.0,\n",
       " 'postag': 'NP',\n",
       " 'postag[:2]': 'NP',\n",
       " 'word.isdigit()': False,\n",
       " 'word.istitle()': True,\n",
       " 'word.isupper()': False,\n",
       " 'word.lower()': 'melbourne',\n",
       " 'word[-2:]': 'ne',\n",
       " 'word[-3:]': 'rne'}"
      ]
     },
     "execution_count": 7,
     "metadata": {},
     "output_type": "execute_result"
    }
   ],
   "source": [
    "sent2features(train_sents[0])[0]"
   ]
  },
  {
   "cell_type": "code",
   "execution_count": 8,
   "metadata": {},
   "outputs": [
    {
     "name": "stdout",
     "output_type": "stream",
     "text": [
      "CPU times: user 1.04 s, sys: 227 ms, total: 1.27 s\n",
      "Wall time: 1.31 s\n"
     ]
    }
   ],
   "source": [
    "%%time\n",
    "X_train = [sent2features(s) for s in train_sents]\n",
    "y_train = [sent2labels(s) for s in train_sents]\n",
    "\n",
    "X_test = [sent2features(s) for s in test_sents]\n",
    "y_test = [sent2labels(s) for s in test_sents]"
   ]
  },
  {
   "cell_type": "code",
   "execution_count": 9,
   "metadata": {},
   "outputs": [
    {
     "name": "stdout",
     "output_type": "stream",
     "text": [
      "CPU times: user 31.4 s, sys: 640 ms, total: 32 s\n",
      "Wall time: 32.9 s\n"
     ]
    }
   ],
   "source": [
    "%%time\n",
    "crf = sklearn_crfsuite.CRF(\n",
    "    algorithm='lbfgs',\n",
    "    c1=0.1,\n",
    "    c2=0.1,\n",
    "    max_iterations=100,\n",
    "    all_possible_transitions=True\n",
    ")\n",
    "crf.fit(X_train, y_train)"
   ]
  },
  {
   "cell_type": "code",
   "execution_count": 10,
   "metadata": {},
   "outputs": [
    {
     "data": {
      "text/plain": [
       "['B-LOC', 'B-ORG', 'B-PER', 'I-PER', 'B-MISC', 'I-ORG', 'I-LOC', 'I-MISC']"
      ]
     },
     "execution_count": 10,
     "metadata": {},
     "output_type": "execute_result"
    }
   ],
   "source": [
    "labels = list(crf.classes_)\n",
    "labels.remove('O')\n",
    "labels"
   ]
  },
  {
   "cell_type": "code",
   "execution_count": 11,
   "metadata": {},
   "outputs": [
    {
     "data": {
      "text/plain": [
       "0.7964686316443963"
      ]
     },
     "execution_count": 11,
     "metadata": {},
     "output_type": "execute_result"
    }
   ],
   "source": [
    "y_pred = crf.predict(X_test)\n",
    "metrics.flat_f1_score(y_test, y_pred,\n",
    "                      average='weighted', labels=labels)"
   ]
  },
  {
   "cell_type": "code",
   "execution_count": 12,
   "metadata": {},
   "outputs": [
    {
     "name": "stdout",
     "output_type": "stream",
     "text": [
      "             precision    recall  f1-score   support\n",
      "\n",
      "      B-LOC      0.810     0.784     0.797      1084\n",
      "      I-LOC      0.690     0.637     0.662       325\n",
      "     B-MISC      0.731     0.569     0.640       339\n",
      "     I-MISC      0.699     0.589     0.639       557\n",
      "      B-ORG      0.807     0.832     0.820      1400\n",
      "      I-ORG      0.852     0.786     0.818      1104\n",
      "      B-PER      0.850     0.884     0.867       735\n",
      "      I-PER      0.893     0.943     0.917       634\n",
      "\n",
      "avg / total      0.809     0.787     0.796      6178\n",
      "\n"
     ]
    }
   ],
   "source": [
    "# group B and I results\n",
    "sorted_labels = sorted(\n",
    "    labels,\n",
    "    key=lambda name: (name[1:], name[0])\n",
    ")\n",
    "print(metrics.flat_classification_report(\n",
    "    y_test, y_pred, labels=sorted_labels, digits=3\n",
    "))"
   ]
  },
  {
   "cell_type": "code",
   "execution_count": 13,
   "metadata": {},
   "outputs": [
    {
     "name": "stdout",
     "output_type": "stream",
     "text": [
      "             precision    recall  f1-score   support\n",
      "\n",
      "      B-LOC      0.810     0.784     0.797      1084\n",
      "      I-LOC      0.690     0.637     0.662       325\n",
      "     B-MISC      0.731     0.569     0.640       339\n",
      "     I-MISC      0.699     0.589     0.639       557\n",
      "      B-ORG      0.807     0.832     0.820      1400\n",
      "      I-ORG      0.852     0.786     0.818      1104\n",
      "      B-PER      0.850     0.884     0.867       735\n",
      "      I-PER      0.893     0.943     0.917       634\n",
      "\n",
      "avg / total      0.809     0.787     0.796      6178\n",
      "\n"
     ]
    }
   ],
   "source": [
    "y_pred = crf.predict(X_test)\n",
    "print(metrics.flat_classification_report(\n",
    "    y_test, y_pred, labels=sorted_labels, digits=3\n",
    "))"
   ]
  },
  {
   "cell_type": "code",
   "execution_count": 14,
   "metadata": {},
   "outputs": [
    {
     "name": "stdout",
     "output_type": "stream",
     "text": [
      "Top likely transitions:\n",
      "B-ORG  -> I-ORG   7.500912\n",
      "I-ORG  -> I-ORG   7.206322\n",
      "B-MISC -> I-MISC  6.833142\n",
      "I-MISC -> I-MISC  6.753222\n",
      "B-PER  -> I-PER   6.404557\n",
      "B-LOC  -> I-LOC   5.696274\n",
      "I-LOC  -> I-LOC   4.877422\n",
      "I-PER  -> I-PER   4.709231\n",
      "O      -> O       3.784430\n",
      "O      -> B-ORG   2.754974\n",
      "O      -> B-PER   2.549453\n",
      "O      -> B-LOC   1.846099\n",
      "O      -> B-MISC  1.804584\n",
      "B-LOC  -> B-LOC   0.578393\n",
      "B-ORG  -> O       0.325175\n",
      "I-PER  -> B-LOC   0.300667\n",
      "B-MISC -> B-ORG   0.298525\n",
      "B-ORG  -> B-LOC   0.266688\n",
      "B-LOC  -> B-PER   -0.046324\n",
      "B-MISC -> O       -0.143646\n",
      "\n",
      "Top unlikely transitions:\n",
      "I-LOC  -> B-MISC  -1.976574\n",
      "I-MISC -> I-PER   -2.008671\n",
      "B-ORG  -> B-ORG   -2.107974\n",
      "I-ORG  -> B-LOC   -2.199630\n",
      "I-MISC -> B-LOC   -2.240108\n",
      "I-ORG  -> I-PER   -2.272384\n",
      "B-PER  -> B-MISC  -2.325289\n",
      "I-PER  -> I-LOC   -2.455352\n",
      "I-ORG  -> B-MISC  -2.486495\n",
      "I-PER  -> B-ORG   -2.512129\n",
      "I-ORG  -> I-LOC   -2.536158\n",
      "I-MISC -> I-LOC   -2.557052\n",
      "B-ORG  -> B-MISC  -2.581202\n",
      "B-PER  -> B-PER   -2.825385\n",
      "I-PER  -> B-MISC  -2.966281\n",
      "B-MISC -> B-MISC  -3.028264\n",
      "O      -> I-MISC  -5.136612\n",
      "O      -> I-ORG   -5.230042\n",
      "O      -> I-PER   -5.357097\n",
      "O      -> I-LOC   -5.968293\n"
     ]
    }
   ],
   "source": [
    "from collections import Counter\n",
    "\n",
    "def print_transitions(trans_features):\n",
    "    for (label_from, label_to), weight in trans_features:\n",
    "        print(\"%-6s -> %-7s %0.6f\" % (label_from, label_to, weight))\n",
    "\n",
    "print(\"Top likely transitions:\")\n",
    "print_transitions(Counter(crf.transition_features_).most_common(20))\n",
    "\n",
    "print(\"\\nTop unlikely transitions:\")\n",
    "print_transitions(Counter(crf.transition_features_).most_common()[-20:])"
   ]
  },
  {
   "cell_type": "code",
   "execution_count": 15,
   "metadata": {},
   "outputs": [
    {
     "name": "stdout",
     "output_type": "stream",
     "text": [
      "Top positive:\n",
      "9.810583 B-ORG    word.lower():efe-cantabria\n",
      "8.587255 B-ORG    word.lower():psoe-progresistas\n",
      "6.026318 I-ORG    -1:word.lower():l\n",
      "4.902771 B-ORG    word.lower():xfera\n",
      "4.896558 B-LOC    -1:word.lower():cantabria\n",
      "4.867565 O        BOS\n",
      "4.810829 B-LOC    word.lower():líbano\n",
      "4.760313 B-ORG    word.lower():telefónica\n",
      "4.723549 B-MISC   word.lower():justicia\n",
      "4.674730 B-ORG    word[-2:]:-e\n",
      "4.597672 B-MISC   word.lower():competencia\n",
      "4.582394 O        word.lower():r.\n",
      "4.582394 O        word[-3:]:R.\n",
      "4.545455 B-MISC   word.lower():diversia\n",
      "4.409233 B-ORG    word.lower():petrobras\n",
      "4.277603 B-ORG    word.lower():coag-extremadura\n",
      "4.261705 B-PER    -1:word.lower():según\n",
      "4.229368 I-LOC    -1:word.lower():calle\n",
      "4.223481 B-ORG    word.isupper()\n",
      "4.189817 B-ORG    word.lower():esquerra\n",
      "4.188726 B-PER    word.lower():valedor\n",
      "4.156011 O        word.lower():b\n",
      "4.156011 O        word[-3:]:B\n",
      "4.156011 O        word[-2:]:B\n",
      "4.150794 B-ORG    word.lower():terra\n",
      "4.121745 B-ORG    -1:word.lower():distancia\n",
      "4.063192 B-LOC    -1:word.lower():celebrarán\n",
      "4.043389 I-ORG    -1:word.lower():rasd\n",
      "4.017850 B-ORG    +1:word.lower():plasencia\n",
      "3.944671 B-MISC   word.lower():exteriores\n",
      "\n",
      "Top negative:\n",
      "-1.934899 B-MISC   word.lower():tribunal\n",
      "-1.941387 B-LOC    word[-3:]:ión\n",
      "-1.998870 O        postag:NP\n",
      "-1.998870 O        postag[:2]:NP\n",
      "-1.999583 B-PER    word[-2:]:os\n",
      "-2.005460 B-PER    word[-2:]:ón\n",
      "-2.040716 B-LOC    word[-3:]:la\n",
      "-2.043386 I-LOC    BOS\n",
      "-2.056432 O        -1:word.lower():agora\n",
      "-2.076812 I-PER    +1:word.lower():el\n",
      "-2.125426 O        -1:word.lower():británica\n",
      "-2.136499 O        +1:word.lower():justicia\n",
      "-2.170635 O        word.lower():061\n",
      "-2.183942 I-PER    +1:word.lower():del\n",
      "-2.189562 B-MISC   -1:word.isupper()\n",
      "-2.389167 O        word[-3:]:bas\n",
      "-2.421343 B-PER    word[-3:]:nes\n",
      "-2.423597 O        +1:word.lower():plasencia\n",
      "-2.425600 O        -1:word.lower():sección\n",
      "-2.426862 O        word[-2:]:nd\n",
      "-2.456323 O        word[-3:]:730\n",
      "-2.706624 O        word[-3:]:LOS\n",
      "-3.051235 O        word.lower():mas\n",
      "-3.053493 O        -1:word.lower():españolas\n",
      "-3.229068 I-PER    -1:word.lower():san\n",
      "-3.444361 B-PER    -1:word.lower():del\n",
      "-3.911123 O        -1:word.lower():celebrarán\n",
      "-4.310235 O        word[-2:]:om\n",
      "-5.999096 O        word.isupper()\n",
      "-8.285736 O        word.istitle()\n"
     ]
    }
   ],
   "source": [
    "def print_state_features(state_features):\n",
    "    for (attr, label), weight in state_features:\n",
    "        print(\"%0.6f %-8s %s\" % (weight, label, attr))\n",
    "\n",
    "print(\"Top positive:\")\n",
    "print_state_features(Counter(crf.state_features_).most_common(30))\n",
    "\n",
    "print(\"\\nTop negative:\")\n",
    "print_state_features(Counter(crf.state_features_).most_common()[-30:])"
   ]
  },
  {
   "cell_type": "code",
   "execution_count": null,
   "metadata": {
    "collapsed": true
   },
   "outputs": [],
   "source": []
  }
 ],
 "metadata": {
  "kernelspec": {
   "display_name": "Python [default]",
   "language": "python",
   "name": "python3"
  },
  "language_info": {
   "codemirror_mode": {
    "name": "ipython",
    "version": 3
   },
   "file_extension": ".py",
   "mimetype": "text/x-python",
   "name": "python",
   "nbconvert_exporter": "python",
   "pygments_lexer": "ipython3",
   "version": "3.6.3"
  }
 },
 "nbformat": 4,
 "nbformat_minor": 2
}
